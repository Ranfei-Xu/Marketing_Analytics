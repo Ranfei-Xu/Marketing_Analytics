{
 "cells": [
  {
   "cell_type": "markdown",
   "id": "982e4d85",
   "metadata": {},
   "source": [
    "# Assignment IV: AB Testing, a Statistical Test, and a Dashboard\n",
    "\n",
    "### By Ranfei Xu"
   ]
  },
  {
   "cell_type": "code",
   "execution_count": 1,
   "id": "3e48ed00",
   "metadata": {},
   "outputs": [
    {
     "name": "stdout",
     "output_type": "stream",
     "text": [
      "E:\\22FALL\\AD654\\Assgn\\AssngIV\n"
     ]
    },
    {
     "data": {
      "text/html": [
       "<div>\n",
       "<style scoped>\n",
       "    .dataframe tbody tr th:only-of-type {\n",
       "        vertical-align: middle;\n",
       "    }\n",
       "\n",
       "    .dataframe tbody tr th {\n",
       "        vertical-align: top;\n",
       "    }\n",
       "\n",
       "    .dataframe thead th {\n",
       "        text-align: right;\n",
       "    }\n",
       "</style>\n",
       "<table border=\"1\" class=\"dataframe\">\n",
       "  <thead>\n",
       "    <tr style=\"text-align: right;\">\n",
       "      <th></th>\n",
       "      <th>MarketID</th>\n",
       "      <th>MarketSize</th>\n",
       "      <th>LocationID</th>\n",
       "      <th>AgeOfStore</th>\n",
       "      <th>Promotion</th>\n",
       "      <th>week</th>\n",
       "      <th>SalesInThousands</th>\n",
       "    </tr>\n",
       "  </thead>\n",
       "  <tbody>\n",
       "    <tr>\n",
       "      <th>0</th>\n",
       "      <td>1</td>\n",
       "      <td>Medium</td>\n",
       "      <td>1</td>\n",
       "      <td>4</td>\n",
       "      <td>3</td>\n",
       "      <td>1</td>\n",
       "      <td>33.73</td>\n",
       "    </tr>\n",
       "    <tr>\n",
       "      <th>1</th>\n",
       "      <td>1</td>\n",
       "      <td>Medium</td>\n",
       "      <td>1</td>\n",
       "      <td>4</td>\n",
       "      <td>3</td>\n",
       "      <td>2</td>\n",
       "      <td>35.67</td>\n",
       "    </tr>\n",
       "    <tr>\n",
       "      <th>2</th>\n",
       "      <td>1</td>\n",
       "      <td>Medium</td>\n",
       "      <td>1</td>\n",
       "      <td>4</td>\n",
       "      <td>3</td>\n",
       "      <td>3</td>\n",
       "      <td>29.03</td>\n",
       "    </tr>\n",
       "    <tr>\n",
       "      <th>3</th>\n",
       "      <td>1</td>\n",
       "      <td>Medium</td>\n",
       "      <td>1</td>\n",
       "      <td>4</td>\n",
       "      <td>3</td>\n",
       "      <td>4</td>\n",
       "      <td>39.25</td>\n",
       "    </tr>\n",
       "    <tr>\n",
       "      <th>4</th>\n",
       "      <td>1</td>\n",
       "      <td>Medium</td>\n",
       "      <td>2</td>\n",
       "      <td>5</td>\n",
       "      <td>2</td>\n",
       "      <td>1</td>\n",
       "      <td>42.79</td>\n",
       "    </tr>\n",
       "  </tbody>\n",
       "</table>\n",
       "</div>"
      ],
      "text/plain": [
       "   MarketID MarketSize  LocationID  AgeOfStore  Promotion  week  \\\n",
       "0         1     Medium           1           4          3     1   \n",
       "1         1     Medium           1           4          3     2   \n",
       "2         1     Medium           1           4          3     3   \n",
       "3         1     Medium           1           4          3     4   \n",
       "4         1     Medium           2           5          2     1   \n",
       "\n",
       "   SalesInThousands  \n",
       "0             33.73  \n",
       "1             35.67  \n",
       "2             29.03  \n",
       "3             39.25  \n",
       "4             42.79  "
      ]
     },
     "execution_count": 1,
     "metadata": {},
     "output_type": "execute_result"
    }
   ],
   "source": [
    "%cd E:\\22FALL\\AD654\\Assgn\\AssngIV\n",
    "import pandas as pd\n",
    "import matplotlib.pyplot as plt\n",
    "import seaborn as sns\n",
    "import numpy as np\n",
    "dt = pd.read_csv(\"campaign_data.csv\")\n",
    "dt.head()"
   ]
  },
  {
   "cell_type": "markdown",
   "id": "806b4649",
   "metadata": {},
   "source": [
    "# Part I: A/B Testing Sales Promotion Strategies\n",
    "\n",
    "### A. Generate a barplot to show the average SalesInThousands values, separated by the different promotion types."
   ]
  },
  {
   "cell_type": "code",
   "execution_count": 2,
   "id": "b5a216ad",
   "metadata": {},
   "outputs": [
    {
     "data": {
      "text/plain": [
       "<AxesSubplot:xlabel='Promotion'>"
      ]
     },
     "execution_count": 2,
     "metadata": {},
     "output_type": "execute_result"
    },
    {
     "data": {
      "image/png": "[encoded data removed]",
      "text/plain": [
       "<Figure size 432x288 with 1 Axes>"
      ]
     },
     "metadata": {
      "needs_background": "light"
     },
     "output_type": "display_data"
    }
   ],
   "source": [
    "dt.groupby('Promotion')['SalesInThousands'].mean().plot.bar()"
   ]
  },
  {
   "cell_type": "markdown",
   "id": "03881d98",
   "metadata": {},
   "source": [
    "Answer: Based on the average sales of 3 different promotion campaigns, we can see Promotion 2 is more effective than Promotion 1 and then Promotion 3. But not a that significant difference.\n",
    "\n",
    "### B. You want to make sure that the promotions were evenly-balanced across time.\n",
    "\n",
    "Create another barplot -- this time, build a barplot that shows the number of instances in which each of the promotions was held. Include the ‘week’ variable in your plot, too"
   ]
  },
  {
   "cell_type": "code",
   "execution_count": 3,
   "id": "b862b44b",
   "metadata": {},
   "outputs": [
    {
     "data": {
      "text/plain": [
       "Text(0, 0.5, 'Sales In Thousands')"
      ]
     },
     "execution_count": 3,
     "metadata": {},
     "output_type": "execute_result"
    },
    {
     "data": {
      "image/png": "[encoded data removed]",
      "text/plain": [
       "<Figure size 432x288 with 1 Axes>"
      ]
     },
     "metadata": {
      "needs_background": "light"
     },
     "output_type": "display_data"
    }
   ],
   "source": [
    "# https://medium.com/analytics-vidhya/create-a-grouped-bar-chart-with-matplotlib-and-pandas-9b021c97e0a\n",
    "dt_pivot = pd.pivot_table(\n",
    "    dt,\n",
    "    values=\"SalesInThousands\",\n",
    "    index=\"Promotion\",\n",
    "    columns=\"week\",\n",
    "    aggfunc=np.mean\n",
    ")\n",
    "# Plot a bar chart using the DF\n",
    "plt = dt_pivot.plot(kind=\"bar\")\n",
    "# Change the axes labels\n",
    "plt.set_xlabel(\"Promotion\")\n",
    "plt.set_ylabel(\"Sales In Thousands\")"
   ]
  },
  {
   "cell_type": "markdown",
   "id": "ad110b31",
   "metadata": {},
   "source": [
    "Answer: In this experiment, for each promotion, the experiment records the sales in the same store weekly, which can detect whether there is a difference in sales performance among different weeks. According to the plot above, there is only a slight difference in sales performance with random features. So we can conclude that variable 'week' does not effect the sales performance, so it is not a confounding variable for this experiment.\n",
    "\n",
    "### C. Next, generate some summary stats here -- group the observations by ‘Promotion’ and then describe the store ages."
   ]
  },
  {
   "cell_type": "code",
   "execution_count": 4,
   "id": "b3d227d9",
   "metadata": {},
   "outputs": [
    {
     "data": {
      "text/html": [
       "<div>\n",
       "<style scoped>\n",
       "    .dataframe tbody tr th:only-of-type {\n",
       "        vertical-align: middle;\n",
       "    }\n",
       "\n",
       "    .dataframe tbody tr th {\n",
       "        vertical-align: top;\n",
       "    }\n",
       "\n",
       "    .dataframe thead tr th {\n",
       "        text-align: left;\n",
       "    }\n",
       "\n",
       "    .dataframe thead tr:last-of-type th {\n",
       "        text-align: right;\n",
       "    }\n",
       "</style>\n",
       "<table border=\"1\" class=\"dataframe\">\n",
       "  <thead>\n",
       "    <tr>\n",
       "      <th></th>\n",
       "      <th colspan=\"8\" halign=\"left\">AgeOfStore</th>\n",
       "      <th colspan=\"8\" halign=\"left\">SalesInThousands</th>\n",
       "    </tr>\n",
       "    <tr>\n",
       "      <th></th>\n",
       "      <th>count</th>\n",
       "      <th>mean</th>\n",
       "      <th>std</th>\n",
       "      <th>min</th>\n",
       "      <th>25%</th>\n",
       "      <th>50%</th>\n",
       "      <th>75%</th>\n",
       "      <th>max</th>\n",
       "      <th>count</th>\n",
       "      <th>mean</th>\n",
       "      <th>std</th>\n",
       "      <th>min</th>\n",
       "      <th>25%</th>\n",
       "      <th>50%</th>\n",
       "      <th>75%</th>\n",
       "      <th>max</th>\n",
       "    </tr>\n",
       "    <tr>\n",
       "      <th>Promotion</th>\n",
       "      <th></th>\n",
       "      <th></th>\n",
       "      <th></th>\n",
       "      <th></th>\n",
       "      <th></th>\n",
       "      <th></th>\n",
       "      <th></th>\n",
       "      <th></th>\n",
       "      <th></th>\n",
       "      <th></th>\n",
       "      <th></th>\n",
       "      <th></th>\n",
       "      <th></th>\n",
       "      <th></th>\n",
       "      <th></th>\n",
       "      <th></th>\n",
       "    </tr>\n",
       "  </thead>\n",
       "  <tbody>\n",
       "    <tr>\n",
       "      <th>1</th>\n",
       "      <td>172.0</td>\n",
       "      <td>8.28</td>\n",
       "      <td>6.64</td>\n",
       "      <td>1.0</td>\n",
       "      <td>3.0</td>\n",
       "      <td>6.0</td>\n",
       "      <td>12.0</td>\n",
       "      <td>27.0</td>\n",
       "      <td>172.0</td>\n",
       "      <td>58.10</td>\n",
       "      <td>16.55</td>\n",
       "      <td>30.81</td>\n",
       "      <td>46.35</td>\n",
       "      <td>55.39</td>\n",
       "      <td>63.62</td>\n",
       "      <td>99.65</td>\n",
       "    </tr>\n",
       "    <tr>\n",
       "      <th>2</th>\n",
       "      <td>188.0</td>\n",
       "      <td>7.98</td>\n",
       "      <td>6.60</td>\n",
       "      <td>1.0</td>\n",
       "      <td>3.0</td>\n",
       "      <td>7.0</td>\n",
       "      <td>10.0</td>\n",
       "      <td>28.0</td>\n",
       "      <td>188.0</td>\n",
       "      <td>62.31</td>\n",
       "      <td>15.11</td>\n",
       "      <td>32.32</td>\n",
       "      <td>53.15</td>\n",
       "      <td>60.36</td>\n",
       "      <td>66.72</td>\n",
       "      <td>103.62</td>\n",
       "    </tr>\n",
       "    <tr>\n",
       "      <th>3</th>\n",
       "      <td>188.0</td>\n",
       "      <td>9.23</td>\n",
       "      <td>6.65</td>\n",
       "      <td>1.0</td>\n",
       "      <td>5.0</td>\n",
       "      <td>8.0</td>\n",
       "      <td>12.0</td>\n",
       "      <td>24.0</td>\n",
       "      <td>188.0</td>\n",
       "      <td>55.36</td>\n",
       "      <td>16.77</td>\n",
       "      <td>22.18</td>\n",
       "      <td>44.20</td>\n",
       "      <td>51.16</td>\n",
       "      <td>61.73</td>\n",
       "      <td>96.48</td>\n",
       "    </tr>\n",
       "  </tbody>\n",
       "</table>\n",
       "</div>"
      ],
      "text/plain": [
       "          AgeOfStore                                        SalesInThousands  \\\n",
       "               count  mean   std  min  25%  50%   75%   max            count   \n",
       "Promotion                                                                      \n",
       "1              172.0  8.28  6.64  1.0  3.0  6.0  12.0  27.0            172.0   \n",
       "2              188.0  7.98  6.60  1.0  3.0  7.0  10.0  28.0            188.0   \n",
       "3              188.0  9.23  6.65  1.0  5.0  8.0  12.0  24.0            188.0   \n",
       "\n",
       "                                                             \n",
       "            mean    std    min    25%    50%    75%     max  \n",
       "Promotion                                                    \n",
       "1          58.10  16.55  30.81  46.35  55.39  63.62   99.65  \n",
       "2          62.31  15.11  32.32  53.15  60.36  66.72  103.62  \n",
       "3          55.36  16.77  22.18  44.20  51.16  61.73   96.48  "
      ]
     },
     "execution_count": 4,
     "metadata": {},
     "output_type": "execute_result"
    }
   ],
   "source": [
    "dt.groupby('Promotion').describe().round(2)[['AgeOfStore','SalesInThousands']]"
   ]
  },
  {
   "cell_type": "code",
   "execution_count": 5,
   "id": "92c81756",
   "metadata": {},
   "outputs": [
    {
     "data": {
      "text/plain": [
       "0.13542795232936078"
      ]
     },
     "execution_count": 5,
     "metadata": {},
     "output_type": "execute_result"
    }
   ],
   "source": [
    "(9.23-7.98)/9.23"
   ]
  },
  {
   "cell_type": "code",
   "execution_count": 6,
   "id": "d7c6bdee",
   "metadata": {},
   "outputs": [
    {
     "data": {
      "text/plain": [
       "0.11153907879955068"
      ]
     },
     "execution_count": 6,
     "metadata": {},
     "output_type": "execute_result"
    }
   ],
   "source": [
    "(62.31-55.36)/62.31"
   ]
  },
  {
   "cell_type": "markdown",
   "id": "65e06c44",
   "metadata": {},
   "source": [
    "Answer: The difference in sales performance (13.54%) slightly exceeds the difference in the average age of stores (11.15%) among the different groups. Since their standard deviation among different promotions is similar, I thought this indicates that the 'AgeOfStore' might be a confounding variable in this experiment.\n",
    "\n",
    "### D. Using an appropriate statistical test for each comparison, compare every possible promotion (Promotion 1 vs. Promotion 2, Promotion 2 vs. Promotion 3, and Promotion 1 vs. Promotion 3) to assess its impact on sales."
   ]
  },
  {
   "cell_type": "code",
   "execution_count": 7,
   "id": "f88f6316",
   "metadata": {},
   "outputs": [
    {
     "name": "stdout",
     "output_type": "stream",
     "text": [
      "For Promotion 1 vs. Promotion 2: t-statistics= -2.51 , p-value= 0.01 .\n"
     ]
    }
   ],
   "source": [
    "from scipy import stats\n",
    "t, p = stats.ttest_ind(dt.loc[dt['Promotion'] == 1, 'SalesInThousands'].values,\n",
    "                       dt.loc[dt['Promotion'] == 2, 'SalesInThousands'].values, \n",
    "                       equal_var=False)\n",
    "print(\"For Promotion 1 vs. Promotion 2: t-statistics=\", t.round(2), \", p-value=\",p.round(2),\".\" )"
   ]
  },
  {
   "cell_type": "code",
   "execution_count": 8,
   "id": "b9ba6da8",
   "metadata": {},
   "outputs": [
    {
     "name": "stdout",
     "output_type": "stream",
     "text": [
      "For Promotion 1 vs. Promotion 3: t-statistics= 1.56 , p-value= 0.12 .\n"
     ]
    }
   ],
   "source": [
    "t, p = stats.ttest_ind(dt.loc[dt['Promotion'] == 1, 'SalesInThousands'].values,\n",
    "                       dt.loc[dt['Promotion'] == 3, 'SalesInThousands'].values, \n",
    "                       equal_var=False)\n",
    "print(\"For Promotion 1 vs. Promotion 3: t-statistics=\", t.round(2), \", p-value=\",p.round(2),\".\" )"
   ]
  },
  {
   "cell_type": "code",
   "execution_count": 9,
   "id": "b4588abe",
   "metadata": {},
   "outputs": [
    {
     "name": "stdout",
     "output_type": "stream",
     "text": [
      "For Promotion 2 vs. Promotion 3: t-statistics= 4.22 , p-value= 0.0 .\n"
     ]
    }
   ],
   "source": [
    "t, p = stats.ttest_ind(dt.loc[dt['Promotion'] == 2, 'SalesInThousands'].values,\n",
    "                       dt.loc[dt['Promotion'] == 3, 'SalesInThousands'].values, \n",
    "                       equal_var=False)\n",
    "print(\"For Promotion 2 vs. Promotion 3: t-statistics=\", t.round(2), \", p-value=\",p.round(2),\".\" )"
   ]
  },
  {
   "cell_type": "markdown",
   "id": "9c108c6a",
   "metadata": {},
   "source": [
    "Answer: Based on the result of t-statistics and p-values, we can see when comparing promotions 1&2 and promotions 2&3, the p-value of our t-test is smaller than 0.05 (assume to use an common alpha value of 0.05 for statistical tests).\n",
    "\n",
    "We can state that the variation in the sales performance between members of promotions 1&2 is not the result of random chance but the variation between promotions 2&3. However, the p-value of our t-test comparing the difference between the sales of promotions 1&3 is larger than 0.05, which means we can not reject the null hypothesis that there is no meaningful variation among the groups. \n",
    "\n",
    "In conclusion, we can say that there is a statistically significant difference in sales performance after applying  Promotion 2 compared to the other promotions. But there is no meaningful variation in sales between applying Promotion 1 and 3.\n",
    "\n",
    "# Part II: Using a Statistical Test to Evaluate a Claim\n",
    "\n",
    "A. Using the results from the first set of dice rolls (in which you rolled the visitor’s dice 60 times), conduct a chi-square goodness of fit test in Python"
   ]
  },
  {
   "cell_type": "code",
   "execution_count": 10,
   "id": "28f3637f",
   "metadata": {},
   "outputs": [
    {
     "name": "stdout",
     "output_type": "stream",
     "text": [
      "The chi-square value is:  5.8\n",
      "The p-value is:  0.33\n"
     ]
    }
   ],
   "source": [
    "from scipy.stats import chisquare\n",
    "\n",
    "observed = [13,7,12,8,14,6]\n",
    "expected = [10,10,10,10,10,10]\n",
    "\n",
    "chisq, pvalue = chisquare(f_obs=observed, f_exp=expected)\n",
    "print(\"The chi-square value is: \", chisq.round(2))\n",
    "print(\"The p-value is: \", pvalue.round(2))"
   ]
  },
  {
   "cell_type": "markdown",
   "id": "792fd1bc",
   "metadata": {},
   "source": [
    "Answer: My null hypothesis is that the six-sided dice is a normal one, which means the probability of observing each side is the same. The alternative hypothesis is that the six-sided dice are not normal, which means the probability of observing each side is different.\n",
    "\n",
    "The p-value of this test is 0.33, more significant than the threshold we set, so we can't reject the null hypothesis that the six-sided dice are normal. \n",
    "\n",
    "### B. Now, using only the results from the second set of dice rolls (in which the intern rolled the visitor’s dice 120 times), conduct a chi-square goodness of fit test in Python."
   ]
  },
  {
   "cell_type": "code",
   "execution_count": 11,
   "id": "85898508",
   "metadata": {},
   "outputs": [
    {
     "name": "stdout",
     "output_type": "stream",
     "text": [
      "The chi-square value is:  11.6\n",
      "The p-value is:  0.04\n"
     ]
    }
   ],
   "source": [
    "observed = [26,14,24,16,28,12]\n",
    "expected = [20,20,20,20,20,20]\n",
    "\n",
    "chisq, pvalue = chisquare(f_obs=observed, f_exp=expected)\n",
    "print(\"The chi-square value is: \", chisq.round(2))\n",
    "print(\"The p-value is: \", pvalue.round(2))"
   ]
  },
  {
   "cell_type": "markdown",
   "id": "abfd3daf",
   "metadata": {},
   "source": [
    "Answer: The null hypothesis is the same as the last question: the probability of observing each side is the same. The alternative hypothesis is that the six-sided dice are not standard, which means the probability of observing each side is different.\n",
    "\n",
    "The p-value of this test is 0.04, which is small enough for us to reject the null hypothesis that there is no difference in probability among each side of the dice, which indicates the dice are not standard dice. The guy is cheating in running this game.\n",
    "\n",
    "### C. Demonstrate where the two chi-square values used above came from. Use Jupyter Notebook to do this, but do not use any Python libraries or modules.\n",
    "\n",
    "Instead, show the calculation used to determine the chi-square value for each case (the 60-roll trial and the 120-roll trial)."
   ]
  },
  {
   "cell_type": "code",
   "execution_count": 12,
   "id": "4ccf9d27",
   "metadata": {},
   "outputs": [
    {
     "name": "stdout",
     "output_type": "stream",
     "text": [
      "The chi-square value for 60-roll trail calculated manualy:  5.800000000000001\n",
      "The chi-square value for 120-roll trail calculated manualy:  11.600000000000001\n"
     ]
    }
   ],
   "source": [
    "chisq_60 = (13-10)**2 / 10 + (7-10)**2 / 10 + (12-10)**2 / 10 + (8-10)**2 / 10 +(14-10)**2 / 10 + (6-10)**2 / 10 \n",
    "\n",
    "chisq_120 = (26-20)**2 / 20 + (14-20)**2 / 20 + (24-20)**2 / 20 + (16-20)**2 / 20 +(28-20)**2 / 20 + (12-20)**2 / 20 \n",
    "\n",
    "print(\"The chi-square value for 60-roll trail calculated manualy: \", chisq_60)\n",
    "print(\"The chi-square value for 120-roll trail calculated manualy: \", chisq_120)\n"
   ]
  },
  {
   "cell_type": "markdown",
   "id": "0af2eb2f",
   "metadata": {},
   "source": [
    "Answer: Based on the formula of calculating chi-square, we notice that chi-square describes the difference between the observed and expected frequencies of the outcomes of a set of events—the higher the chi-square, the higher perturbation. We also noticed that the observed frequency in 120 trails is just two times of 60 trails. As the formula shows, the time complexity of the molecule is o(x^2), while the one of the molecule is o(x). So as the x double up, the chi-square value double up following. \n",
    "\n",
    "### D. What should Lobster Land tell the traveling salesman? Why?\n",
    "\n",
    "Answer: Based on a sufficient number of experiments, I reject the null hypothesis, which means I don't think the game is fair to customers. So I will reject the salesman to set up the dice game.\n",
    "\n",
    "### E. If using more dice rolls in the 2nd trial seems to have impacted the results, write a completely intuitive explanation for why this might make sense. \n",
    "\n",
    "Answer: In the 60 trials experiment, the dispersion of the observed data is 'x' (assumed). We don't have a small p-value to reject the hypothesis to infer the probability of observing the 6-side is different. In the 120 trials experiment, the dispersion increased to '2x' instead of decreasing according to the experiment times. So we reject the null hypothesis. Because, based on the more dispersion observed data, we can't indicate these results were attributable to random chance anymore.\n",
    "\n",
    "\n",
    "# Part III: UsingTableau to Build a Dashboard:"
   ]
  },
  {
   "cell_type": "code",
   "execution_count": 16,
   "id": "62e855c6",
   "metadata": {},
   "outputs": [
    {
     "ename": "SyntaxError",
     "evalue": "invalid syntax (Temp/ipykernel_36892/3105125105.py, line 3)",
     "output_type": "error",
     "traceback": [
      "\u001b[1;36m  File \u001b[1;32m\"C:\\Users\\ranfe\\AppData\\Local\\Temp/ipykernel_36892/3105125105.py\"\u001b[1;36m, line \u001b[1;32m3\u001b[0m\n\u001b[1;33m    <div class='tableauPlaceholder' id='viz1667848728563' style='position: relative'><noscript><a href='#'><img alt='Dashboard 1 ' src='https:&#47;&#47;public.tableau.com&#47;static&#47;images&#47;FB&#47;FBYP6M8FR&#47;1_rss.png' style='border: none' /></a></noscript><object class='tableauViz'  style='display:none;'><param name='host_url' value='https%3A%2F%2Fpublic.tableau.com%2F' /> <param name='embed_code_version' value='3' /> <param name='path' value='shared&#47;FBYP6M8FR' /> <param name='toolbar' value='yes' /><param name='static_image' value='https:&#47;&#47;public.tableau.com&#47;static&#47;images&#47;FB&#47;FBYP6M8FR&#47;1.png' /> <param name='animate_transition' value='yes' /><param name='display_static_image' value='yes' /><param name='display_spinner' value='yes' /><param name='display_overlay' value='yes' /><param name='display_count' value='yes' /><param name='language' value='en-US' /><param name='filter' value='publish=yes' /></object></div>                <script type='text/javascript'>                    var divElement = document.getElementById('viz1667848728563');                    var vizElement = divElement.getElementsByTagName('object')[0];                    if ( divElement.offsetWidth > 800 ) { vizElement.style.width='1000px';vizElement.style.height='827px';} else if ( divElement.offsetWidth > 500 ) { vizElement.style.width='1000px';vizElement.style.height='827px';} else { vizElement.style.width='100%';vizElement.style.height='1177px';}                     var scriptElement = document.createElement('script');                    scriptElement.src = 'https://public.tableau.com/javascripts/api/viz_v1.js';                    vizElement.parentNode.insertBefore(scriptElement, vizElement);                </script>\u001b[0m\n\u001b[1;37m    ^\u001b[0m\n\u001b[1;31mSyntaxError\u001b[0m\u001b[1;31m:\u001b[0m invalid syntax\n"
     ]
    }
   ],
   "source": [
    "# https://ateleron.medium.com/tableau-public-integration-with-jupyter-notebook-569e8787fe7e#:~:text=A%20way%20to%20embed%20Tableau%20visualizations%20to%20Jupyter%20Notebook&text=Log%20in%20to%20your%20profile,Tableau%20banner%20underneath%20the%20viz\n",
    "%%html\n",
    "<div class='tableauPlaceholder' id='viz1667848728563' style='position: relative'><noscript><a href='#'><img alt='Dashboard 1 ' src='https:&#47;&#47;public.tableau.com&#47;static&#47;images&#47;FB&#47;FBYP6M8FR&#47;1_rss.png' style='border: none' /></a></noscript><object class='tableauViz'  style='display:none;'><param name='host_url' value='https%3A%2F%2Fpublic.tableau.com%2F' /> <param name='embed_code_version' value='3' /> <param name='path' value='shared&#47;FBYP6M8FR' /> <param name='toolbar' value='yes' /><param name='static_image' value='https:&#47;&#47;public.tableau.com&#47;static&#47;images&#47;FB&#47;FBYP6M8FR&#47;1.png' /> <param name='animate_transition' value='yes' /><param name='display_static_image' value='yes' /><param name='display_spinner' value='yes' /><param name='display_overlay' value='yes' /><param name='display_count' value='yes' /><param name='language' value='en-US' /><param name='filter' value='publish=yes' /></object></div>                <script type='text/javascript'>                    var divElement = document.getElementById('viz1667848728563');                    var vizElement = divElement.getElementsByTagName('object')[0];                    if ( divElement.offsetWidth > 800 ) { vizElement.style.width='1000px';vizElement.style.height='827px';} else if ( divElement.offsetWidth > 500 ) { vizElement.style.width='1000px';vizElement.style.height='827px';} else { vizElement.style.width='100%';vizElement.style.height='1177px';}                     var scriptElement = document.createElement('script');                    scriptElement.src = 'https://public.tableau.com/javascripts/api/viz_v1.js';                    vizElement.parentNode.insertBefore(scriptElement, vizElement);                </script>"
   ]
  },
  {
   "cell_type": "markdown",
   "id": "6e0074a5",
   "metadata": {},
   "source": [
    "Web Link for the tableau workbook:\n",
    "\n",
    "https://public.tableau.com/shared/FBYP6M8FR?:display_count=n&:origin=viz_share_link\n",
    "\n",
    "Description: I create three visualizations in total. The 'Weekday vs. TotalPax/Total Rev' Plot shows the relationship between Weekday and the relative TotalPax and TotalRev. It turns out that more visitors bring more revenue, and Friday to Sunday are the three most popular days in LobsterLand, especially Friday is the most. So I add a filter to highlight the data on Friday. \n",
    "\n",
    "I also built a tree plot to explain the relationship between Weekday and Total Revenue. This visualization displays the relationship between Weekday and total revenue in a segmentation style but without more information than the first plot. I just want to try the treemaps.\n",
    "\n",
    "The third plot shows the detail of different revenue on different weekdays. This distribution can give the management of Lobsterland an instinct to allocate the staff and resources to different parts more effectively. By the way, I don't know what's wrong with the code I learned from 'medium' to embed my Tableau into Jupyternotbook directly."
   ]
  }
 ],
 "metadata": {
  "kernelspec": {
   "display_name": "Python 3 (ipykernel)",
   "language": "python",
   "name": "python3"
  },
  "language_info": {
   "codemirror_mode": {
    "name": "ipython",
    "version": 3
   },
   "file_extension": ".py",
   "mimetype": "text/x-python",
   "name": "python",
   "nbconvert_exporter": "python",
   "pygments_lexer": "ipython3",
   "version": "3.9.7"
  }
 },
 "nbformat": 4,
 "nbformat_minor": 5
}
