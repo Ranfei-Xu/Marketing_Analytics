{
 "cells": [
  {
   "cell_type": "markdown",
   "id": "3cae4186",
   "metadata": {},
   "source": [
    "# Part I: Segmentation"
   ]
  },
  {
   "cell_type": "code",
   "execution_count": 1,
   "id": "9b07a4bd",
   "metadata": {},
   "outputs": [
    {
     "name": "stdout",
     "output_type": "stream",
     "text": [
      "E:\\22FALL\\AD654\\Assgn\\AssngII\n"
     ]
    }
   ],
   "source": [
    "%cd E:\\22FALL\\AD654\\Assgn\\AssngII\n",
    "import pandas as pd\n",
    "rfm = pd.read_csv(\"lobster_club_rfm.csv\") "
   ]
  },
  {
   "cell_type": "markdown",
   "id": "a3379c76",
   "metadata": {},
   "source": [
    "### A. Drop the courseID variable."
   ]
  },
  {
   "cell_type": "code",
   "execution_count": 2,
   "id": "9573d9be",
   "metadata": {},
   "outputs": [
    {
     "name": "stderr",
     "output_type": "stream",
     "text": [
      "C:\\Users\\ranfe\\AppData\\Local\\Temp/ipykernel_2992/1456561029.py:1: FutureWarning: In a future version of pandas all arguments of DataFrame.drop except for the argument 'labels' will be keyword-only\n",
      "  rfm = rfm.drop('customerID', 1)\n"
     ]
    },
    {
     "data": {
      "text/html": [
       "<div>\n",
       "<style scoped>\n",
       "    .dataframe tbody tr th:only-of-type {\n",
       "        vertical-align: middle;\n",
       "    }\n",
       "\n",
       "    .dataframe tbody tr th {\n",
       "        vertical-align: top;\n",
       "    }\n",
       "\n",
       "    .dataframe thead th {\n",
       "        text-align: right;\n",
       "    }\n",
       "</style>\n",
       "<table border=\"1\" class=\"dataframe\">\n",
       "  <thead>\n",
       "    <tr style=\"text-align: right;\">\n",
       "      <th></th>\n",
       "      <th>days_since_purch</th>\n",
       "      <th>days_since_sitevisit</th>\n",
       "      <th>total_visits_yr</th>\n",
       "      <th>total_purch_yr</th>\n",
       "      <th>total_dollars_yr</th>\n",
       "      <th>total_dollars_other</th>\n",
       "    </tr>\n",
       "  </thead>\n",
       "  <tbody>\n",
       "    <tr>\n",
       "      <th>0</th>\n",
       "      <td>27</td>\n",
       "      <td>21</td>\n",
       "      <td>35</td>\n",
       "      <td>25</td>\n",
       "      <td>90.73</td>\n",
       "      <td>54.88</td>\n",
       "    </tr>\n",
       "    <tr>\n",
       "      <th>1</th>\n",
       "      <td>29</td>\n",
       "      <td>12</td>\n",
       "      <td>25</td>\n",
       "      <td>13</td>\n",
       "      <td>112.33</td>\n",
       "      <td>76.44</td>\n",
       "    </tr>\n",
       "    <tr>\n",
       "      <th>2</th>\n",
       "      <td>18</td>\n",
       "      <td>5</td>\n",
       "      <td>45</td>\n",
       "      <td>42</td>\n",
       "      <td>67.85</td>\n",
       "      <td>49.11</td>\n",
       "    </tr>\n",
       "    <tr>\n",
       "      <th>3</th>\n",
       "      <td>31</td>\n",
       "      <td>18</td>\n",
       "      <td>33</td>\n",
       "      <td>34</td>\n",
       "      <td>107.51</td>\n",
       "      <td>86.25</td>\n",
       "    </tr>\n",
       "    <tr>\n",
       "      <th>4</th>\n",
       "      <td>20</td>\n",
       "      <td>20</td>\n",
       "      <td>27</td>\n",
       "      <td>21</td>\n",
       "      <td>109.98</td>\n",
       "      <td>80.86</td>\n",
       "    </tr>\n",
       "    <tr>\n",
       "      <th>...</th>\n",
       "      <td>...</td>\n",
       "      <td>...</td>\n",
       "      <td>...</td>\n",
       "      <td>...</td>\n",
       "      <td>...</td>\n",
       "      <td>...</td>\n",
       "    </tr>\n",
       "    <tr>\n",
       "      <th>649</th>\n",
       "      <td>22</td>\n",
       "      <td>22</td>\n",
       "      <td>43</td>\n",
       "      <td>38</td>\n",
       "      <td>57.98</td>\n",
       "      <td>11.99</td>\n",
       "    </tr>\n",
       "    <tr>\n",
       "      <th>650</th>\n",
       "      <td>24</td>\n",
       "      <td>2</td>\n",
       "      <td>36</td>\n",
       "      <td>24</td>\n",
       "      <td>113.52</td>\n",
       "      <td>70.43</td>\n",
       "    </tr>\n",
       "    <tr>\n",
       "      <th>651</th>\n",
       "      <td>22</td>\n",
       "      <td>18</td>\n",
       "      <td>35</td>\n",
       "      <td>26</td>\n",
       "      <td>91.32</td>\n",
       "      <td>52.62</td>\n",
       "    </tr>\n",
       "    <tr>\n",
       "      <th>652</th>\n",
       "      <td>37</td>\n",
       "      <td>37</td>\n",
       "      <td>32</td>\n",
       "      <td>28</td>\n",
       "      <td>56.78</td>\n",
       "      <td>24.70</td>\n",
       "    </tr>\n",
       "    <tr>\n",
       "      <th>653</th>\n",
       "      <td>27</td>\n",
       "      <td>27</td>\n",
       "      <td>29</td>\n",
       "      <td>22</td>\n",
       "      <td>104.13</td>\n",
       "      <td>57.90</td>\n",
       "    </tr>\n",
       "  </tbody>\n",
       "</table>\n",
       "<p>654 rows × 6 columns</p>\n",
       "</div>"
      ],
      "text/plain": [
       "     days_since_purch  days_since_sitevisit  total_visits_yr  total_purch_yr  \\\n",
       "0                  27                    21               35              25   \n",
       "1                  29                    12               25              13   \n",
       "2                  18                     5               45              42   \n",
       "3                  31                    18               33              34   \n",
       "4                  20                    20               27              21   \n",
       "..                ...                   ...              ...             ...   \n",
       "649                22                    22               43              38   \n",
       "650                24                     2               36              24   \n",
       "651                22                    18               35              26   \n",
       "652                37                    37               32              28   \n",
       "653                27                    27               29              22   \n",
       "\n",
       "     total_dollars_yr  total_dollars_other  \n",
       "0               90.73                54.88  \n",
       "1              112.33                76.44  \n",
       "2               67.85                49.11  \n",
       "3              107.51                86.25  \n",
       "4              109.98                80.86  \n",
       "..                ...                  ...  \n",
       "649             57.98                11.99  \n",
       "650            113.52                70.43  \n",
       "651             91.32                52.62  \n",
       "652             56.78                24.70  \n",
       "653            104.13                57.90  \n",
       "\n",
       "[654 rows x 6 columns]"
      ]
     },
     "execution_count": 2,
     "metadata": {},
     "output_type": "execute_result"
    }
   ],
   "source": [
    "rfm = rfm.drop('customerID', 1)\n",
    "rfm"
   ]
  },
  {
   "cell_type": "markdown",
   "id": "3c8f5971",
   "metadata": {},
   "source": [
    "a. Why will customerID not be relevant in a clustering model?\n",
    "\n",
    "Answer: The principle for cluster is to maximize the between-cluster variance while minimizing the within cluster variance. One of the common way is to calculate the Euclidean distance by summing each of their pairwise squared differences, and then taking the square root of that sum. So the unique and ordered customerID that is just for easily tracked will not help when we calculate the Euclidean distance.\n",
    "\n",
    "### B.Call the describe() function on your dataset."
   ]
  },
  {
   "cell_type": "code",
   "execution_count": 3,
   "id": "35efc27a",
   "metadata": {},
   "outputs": [
    {
     "data": {
      "text/html": [
       "<div>\n",
       "<style scoped>\n",
       "    .dataframe tbody tr th:only-of-type {\n",
       "        vertical-align: middle;\n",
       "    }\n",
       "\n",
       "    .dataframe tbody tr th {\n",
       "        vertical-align: top;\n",
       "    }\n",
       "\n",
       "    .dataframe thead th {\n",
       "        text-align: right;\n",
       "    }\n",
       "</style>\n",
       "<table border=\"1\" class=\"dataframe\">\n",
       "  <thead>\n",
       "    <tr style=\"text-align: right;\">\n",
       "      <th></th>\n",
       "      <th>days_since_purch</th>\n",
       "      <th>days_since_sitevisit</th>\n",
       "      <th>total_visits_yr</th>\n",
       "      <th>total_purch_yr</th>\n",
       "      <th>total_dollars_yr</th>\n",
       "      <th>total_dollars_other</th>\n",
       "    </tr>\n",
       "  </thead>\n",
       "  <tbody>\n",
       "    <tr>\n",
       "      <th>count</th>\n",
       "      <td>654.000000</td>\n",
       "      <td>654.000000</td>\n",
       "      <td>654.000000</td>\n",
       "      <td>654.000000</td>\n",
       "      <td>654.000000</td>\n",
       "      <td>654.000000</td>\n",
       "    </tr>\n",
       "    <tr>\n",
       "      <th>mean</th>\n",
       "      <td>27.108563</td>\n",
       "      <td>18.940367</td>\n",
       "      <td>32.619266</td>\n",
       "      <td>25.403670</td>\n",
       "      <td>72.192722</td>\n",
       "      <td>42.947691</td>\n",
       "    </tr>\n",
       "    <tr>\n",
       "      <th>std</th>\n",
       "      <td>7.482424</td>\n",
       "      <td>11.788896</td>\n",
       "      <td>6.254946</td>\n",
       "      <td>7.169724</td>\n",
       "      <td>21.354962</td>\n",
       "      <td>23.231503</td>\n",
       "    </tr>\n",
       "    <tr>\n",
       "      <th>min</th>\n",
       "      <td>8.000000</td>\n",
       "      <td>0.000000</td>\n",
       "      <td>8.000000</td>\n",
       "      <td>1.000000</td>\n",
       "      <td>11.820000</td>\n",
       "      <td>-17.250000</td>\n",
       "    </tr>\n",
       "    <tr>\n",
       "      <th>25%</th>\n",
       "      <td>22.000000</td>\n",
       "      <td>10.000000</td>\n",
       "      <td>29.000000</td>\n",
       "      <td>21.000000</td>\n",
       "      <td>57.495000</td>\n",
       "      <td>27.375000</td>\n",
       "    </tr>\n",
       "    <tr>\n",
       "      <th>50%</th>\n",
       "      <td>26.000000</td>\n",
       "      <td>18.000000</td>\n",
       "      <td>33.000000</td>\n",
       "      <td>26.000000</td>\n",
       "      <td>71.860000</td>\n",
       "      <td>42.565000</td>\n",
       "    </tr>\n",
       "    <tr>\n",
       "      <th>75%</th>\n",
       "      <td>31.000000</td>\n",
       "      <td>26.000000</td>\n",
       "      <td>37.000000</td>\n",
       "      <td>30.000000</td>\n",
       "      <td>86.485000</td>\n",
       "      <td>58.767500</td>\n",
       "    </tr>\n",
       "    <tr>\n",
       "      <th>max</th>\n",
       "      <td>60.000000</td>\n",
       "      <td>60.000000</td>\n",
       "      <td>52.000000</td>\n",
       "      <td>48.000000</td>\n",
       "      <td>137.720000</td>\n",
       "      <td>122.390000</td>\n",
       "    </tr>\n",
       "  </tbody>\n",
       "</table>\n",
       "</div>"
      ],
      "text/plain": [
       "       days_since_purch  days_since_sitevisit  total_visits_yr  \\\n",
       "count        654.000000            654.000000       654.000000   \n",
       "mean          27.108563             18.940367        32.619266   \n",
       "std            7.482424             11.788896         6.254946   \n",
       "min            8.000000              0.000000         8.000000   \n",
       "25%           22.000000             10.000000        29.000000   \n",
       "50%           26.000000             18.000000        33.000000   \n",
       "75%           31.000000             26.000000        37.000000   \n",
       "max           60.000000             60.000000        52.000000   \n",
       "\n",
       "       total_purch_yr  total_dollars_yr  total_dollars_other  \n",
       "count      654.000000        654.000000           654.000000  \n",
       "mean        25.403670         72.192722            42.947691  \n",
       "std          7.169724         21.354962            23.231503  \n",
       "min          1.000000         11.820000           -17.250000  \n",
       "25%         21.000000         57.495000            27.375000  \n",
       "50%         26.000000         71.860000            42.565000  \n",
       "75%         30.000000         86.485000            58.767500  \n",
       "max         48.000000        137.720000           122.390000  "
      ]
     },
     "execution_count": 3,
     "metadata": {},
     "output_type": "execute_result"
    }
   ],
   "source": [
    "rfm.describe()"
   ]
  },
  {
   "cell_type": "markdown",
   "id": "8a5d3f45",
   "metadata": {},
   "source": [
    "a. How does this function help you to gain an overall sense of the columns and values in this (or any other) dataset? Why is this valuable for any analyst who will use a dataset to build a model?\n",
    "\n",
    "Answer: The describe function returns descriptive statistics of our data that can help us have the first data-oriented impression. By doing so, with simplifying the description, we can have a general impression of the distribution of each variable and may also identify the outliers/missing values/impossible values. For example, the minimus total_dollars_other is negative, which doesn't match common sense.\n",
    "\n",
    "### C.Missing values/impossible values"
   ]
  },
  {
   "cell_type": "code",
   "execution_count": 4,
   "id": "582375bb",
   "metadata": {},
   "outputs": [
    {
     "name": "stdout",
     "output_type": "stream",
     "text": [
      "days_since_purch        0\n",
      "days_since_sitevisit    0\n",
      "total_visits_yr         0\n",
      "total_purch_yr          0\n",
      "total_dollars_yr        0\n",
      "total_dollars_other     0\n",
      "dtype: int64\n"
     ]
    }
   ],
   "source": [
    "print(rfm.isnull().sum())"
   ]
  },
  {
   "cell_type": "markdown",
   "id": "1b0d4840",
   "metadata": {},
   "source": [
    "a. Does this dataset contain any missing values? If so, how many? Which\n",
    "columns have missing values?\n",
    "\n",
    "Answer: The dataset does not contain any missing value."
   ]
  },
  {
   "cell_type": "code",
   "execution_count": 5,
   "id": "a6321b18",
   "metadata": {},
   "outputs": [
    {
     "name": "stdout",
     "output_type": "stream",
     "text": [
      "     days_since_purch  days_since_sitevisit  total_visits_yr  total_purch_yr  \\\n",
      "71                 30                    28               30              28   \n",
      "96                 27                    15               31              23   \n",
      "103                15                     5               39              39   \n",
      "105                39                    39               34              29   \n",
      "164                30                    30               28              19   \n",
      "182                44                    44               26              25   \n",
      "184                31                    31               28              25   \n",
      "218                22                     2               44              34   \n",
      "240                21                     8               41              34   \n",
      "256                23                    21               30              25   \n",
      "264                31                    21               33              28   \n",
      "278                25                     5               35              30   \n",
      "279                27                     0               19              12   \n",
      "322                22                     8               34              33   \n",
      "372                56                    56               20              16   \n",
      "382                28                    10               26              24   \n",
      "426                22                    22               42              34   \n",
      "438                22                     9               35              27   \n",
      "510                32                    15               44              37   \n",
      "517                28                    28               38              32   \n",
      "520                46                    46               41              34   \n",
      "538                25                    17               34              24   \n",
      "544                29                     8               37              32   \n",
      "571                26                    16               18               9   \n",
      "617                19                    19               28              17   \n",
      "629                28                    14               30              22   \n",
      "\n",
      "     total_dollars_yr  total_dollars_other  \n",
      "71              11.82               -14.90  \n",
      "96              32.90               -11.13  \n",
      "103             34.65                -0.52  \n",
      "105             30.74               -17.25  \n",
      "164             33.05                -2.50  \n",
      "182             28.77                -2.68  \n",
      "184             30.29               -15.23  \n",
      "218             40.08                -3.09  \n",
      "240             25.02                -4.68  \n",
      "256             45.51                -1.44  \n",
      "264             19.51                -0.28  \n",
      "278             43.21                -0.29  \n",
      "279             30.00               -14.19  \n",
      "322             27.10               -10.35  \n",
      "372             31.11                -4.85  \n",
      "382             36.45                -9.33  \n",
      "426             35.67                -9.51  \n",
      "438             42.46                -1.38  \n",
      "510             34.49                -5.29  \n",
      "517             37.76                -2.61  \n",
      "520             46.66                -0.65  \n",
      "538             35.11                -9.51  \n",
      "544             37.82                -7.48  \n",
      "571             16.95                -6.71  \n",
      "617             24.08                -7.49  \n",
      "629             42.49                -1.29  \n"
     ]
    }
   ],
   "source": [
    "print(rfm.loc[rfm['total_dollars_other'] < 0 ])"
   ]
  },
  {
   "cell_type": "code",
   "execution_count": 6,
   "id": "db2f3d26",
   "metadata": {},
   "outputs": [],
   "source": [
    "rfm['total_dollars_other'] = rfm['total_dollars_other'].abs()\n",
    "# check\n",
    "# print(rfm.loc[rfm['total_dollars_other'] < 0 ])\n",
    "# rfm.describe()"
   ]
  },
  {
   "cell_type": "markdown",
   "id": "9168f383",
   "metadata": {},
   "source": [
    "b. What about impossible values? Do you see any impossible values here?\n",
    "If so, handle them in any way that you see fit. Why did you take this\n",
    "approach?\n",
    "\n",
    "Answer: Based on the decribe() result shown before, I found out there exists a negative value in \"total_dollar_others\" which is not make common sense. Then I check this column and detect other impossible values come for the same reason. So I use the abs() function to turn these negative values into positive ones, I assume that the value itself is correct, just the sign goes wrong.\n",
    "\n",
    "### D.Data scaling."
   ]
  },
  {
   "cell_type": "markdown",
   "id": "64c55d18",
   "metadata": {},
   "source": [
    "a. Do your variables need to be standardized? Why or why not?\n",
    "\n",
    "Answer: I think the variables need to be standardized because there are variables that describe money matter, while others describe time matter. To calculate the Euclidean distance for the clustering method, we need to standardize these variables to avoid the high-ranges-variables will have a bigger influence on the clustering.\n",
    "\n",
    "\n",
    "b. If your data requires standardization, use Python to convert your values\n",
    "into z-scores, and store the normalized data in a new dataframe. If not,\n",
    "proceed to the next step without changing the variables."
   ]
  },
  {
   "cell_type": "code",
   "execution_count": 7,
   "id": "2e3bf1f2",
   "metadata": {},
   "outputs": [
    {
     "name": "stdout",
     "output_type": "stream",
     "text": [
      "       days_since_purch  days_since_sitevisit  total_visits_yr  \\\n",
      "count            654.00                654.00           654.00   \n",
      "mean              -0.00                 -0.00             0.00   \n",
      "std                1.00                  1.00             1.00   \n",
      "min               -2.56                 -1.61            -3.94   \n",
      "25%               -0.68                 -0.76            -0.58   \n",
      "50%               -0.15                 -0.08             0.06   \n",
      "75%                0.52                  0.60             0.70   \n",
      "max                4.40                  3.49             3.10   \n",
      "\n",
      "       total_purch_yr  total_dollars_yr  total_dollars_other  \n",
      "count          654.00            654.00               654.00  \n",
      "mean             0.00             -0.00                -0.00  \n",
      "std              1.00              1.00                 1.00  \n",
      "min             -3.41             -2.83                -1.95  \n",
      "25%             -0.61             -0.69                -0.72  \n",
      "50%              0.08             -0.02                -0.04  \n",
      "75%              0.64              0.67                 0.69  \n",
      "max              3.15              3.07                 3.55  \n"
     ]
    }
   ],
   "source": [
    "from sklearn.preprocessing import StandardScaler \n",
    "\n",
    "data_scaling = StandardScaler()\n",
    "data_scaling.fit(rfm)\n",
    "\n",
    "rfm_normalize = data_scaling.transform(rfm)\n",
    "rfm_normalize = pd.DataFrame(data = rfm_normalize, index = rfm.index , columns = rfm.columns)\n",
    "print(rfm_normalize.describe().round(2))"
   ]
  },
  {
   "cell_type": "markdown",
   "id": "4fbe92bc",
   "metadata": {},
   "source": [
    "### E. Elbow chart.\n",
    "\n",
    "a. Build an elbow chart to help give you a sense of how you might build\n",
    "your model."
   ]
  },
  {
   "cell_type": "code",
   "execution_count": 8,
   "id": "a6a1fef4",
   "metadata": {},
   "outputs": [
    {
     "name": "stderr",
     "output_type": "stream",
     "text": [
      "D:\\app\\anaconda\\lib\\site-packages\\sklearn\\cluster\\_kmeans.py:881: UserWarning: KMeans is known to have a memory leak on Windows with MKL, when there are less chunks than available threads. You can avoid it by setting the environment variable OMP_NUM_THREADS=3.\n",
      "  warnings.warn(\n"
     ]
    },
    {
     "data": {
      "image/png": "[encoded data removed]",
      "text/plain": [
       "<Figure size 1152x576 with 1 Axes>"
      ]
     },
     "metadata": {
      "needs_background": "light"
     },
     "output_type": "display_data"
    }
   ],
   "source": [
    "from sklearn.cluster import KMeans\n",
    "import matplotlib.pyplot as plt\n",
    "\n",
    "distortions = []\n",
    "K = range(1,10)\n",
    "for k in K:\n",
    "    kmeanModel = KMeans(n_clusters=k, random_state=654)\n",
    "    kmeanModel.fit(rfm_normalize)\n",
    "    distortions.append(kmeanModel.inertia_)\n",
    "    \n",
    "# Plotting the distortions of K-Means\n",
    "plt.figure(figsize=(16,8))\n",
    "plt.plot(K, distortions, 'bx-')\n",
    "plt.xlabel('k')\n",
    "plt.ylabel('SSE')\n",
    "plt.title('The Elbow Method showing the optimal k')\n",
    "plt.show() "
   ]
  },
  {
   "cell_type": "markdown",
   "id": "f982b680",
   "metadata": {},
   "source": [
    "### F. How many clusters will you use for your k-means model? \n",
    "\n",
    "Answer: Accroding to the elbow char, I will choose 4 as the number of my cluster. Since after k=4, the reduction of SSE becomes slow.\n",
    "\n",
    "### G. Build a k-means model with your desired number of clusters."
   ]
  },
  {
   "cell_type": "code",
   "execution_count": 9,
   "id": "3179dc3c",
   "metadata": {},
   "outputs": [
    {
     "data": {
      "text/plain": [
       "KMeans(n_clusters=4, random_state=654)"
      ]
     },
     "execution_count": 9,
     "metadata": {},
     "output_type": "execute_result"
    }
   ],
   "source": [
    "kmeans = KMeans(n_clusters=4, random_state=654) \n",
    "kmeans.fit(rfm_normalize)"
   ]
  },
  {
   "cell_type": "markdown",
   "id": "aba65479",
   "metadata": {},
   "source": [
    "### H. Generate and show summary statistics about each of your clusters."
   ]
  },
  {
   "cell_type": "code",
   "execution_count": 10,
   "id": "0b95453e",
   "metadata": {},
   "outputs": [
    {
     "data": {
      "text/html": [
       "<div>\n",
       "<style scoped>\n",
       "    .dataframe tbody tr th:only-of-type {\n",
       "        vertical-align: middle;\n",
       "    }\n",
       "\n",
       "    .dataframe tbody tr th {\n",
       "        vertical-align: top;\n",
       "    }\n",
       "\n",
       "    .dataframe thead th {\n",
       "        text-align: right;\n",
       "    }\n",
       "</style>\n",
       "<table border=\"1\" class=\"dataframe\">\n",
       "  <thead>\n",
       "    <tr style=\"text-align: right;\">\n",
       "      <th></th>\n",
       "      <th>days_since_purch</th>\n",
       "      <th>days_since_sitevisit</th>\n",
       "      <th>total_visits_yr</th>\n",
       "      <th>total_purch_yr</th>\n",
       "      <th>total_dollars_yr</th>\n",
       "      <th>total_dollars_other</th>\n",
       "    </tr>\n",
       "    <tr>\n",
       "      <th>Cluster</th>\n",
       "      <th></th>\n",
       "      <th></th>\n",
       "      <th></th>\n",
       "      <th></th>\n",
       "      <th></th>\n",
       "      <th></th>\n",
       "    </tr>\n",
       "  </thead>\n",
       "  <tbody>\n",
       "    <tr>\n",
       "      <th>0</th>\n",
       "      <td>1.48</td>\n",
       "      <td>1.50</td>\n",
       "      <td>-0.14</td>\n",
       "      <td>-0.12</td>\n",
       "      <td>-0.04</td>\n",
       "      <td>-0.06</td>\n",
       "    </tr>\n",
       "    <tr>\n",
       "      <th>1</th>\n",
       "      <td>-0.36</td>\n",
       "      <td>-0.35</td>\n",
       "      <td>-0.86</td>\n",
       "      <td>-0.93</td>\n",
       "      <td>-0.33</td>\n",
       "      <td>-0.35</td>\n",
       "    </tr>\n",
       "    <tr>\n",
       "      <th>2</th>\n",
       "      <td>-0.26</td>\n",
       "      <td>-0.24</td>\n",
       "      <td>0.28</td>\n",
       "      <td>0.30</td>\n",
       "      <td>1.09</td>\n",
       "      <td>1.14</td>\n",
       "    </tr>\n",
       "    <tr>\n",
       "      <th>3</th>\n",
       "      <td>-0.33</td>\n",
       "      <td>-0.38</td>\n",
       "      <td>0.81</td>\n",
       "      <td>0.85</td>\n",
       "      <td>-0.64</td>\n",
       "      <td>-0.64</td>\n",
       "    </tr>\n",
       "  </tbody>\n",
       "</table>\n",
       "</div>"
      ],
      "text/plain": [
       "         days_since_purch  days_since_sitevisit  total_visits_yr  \\\n",
       "Cluster                                                            \n",
       "0                    1.48                  1.50            -0.14   \n",
       "1                   -0.36                 -0.35            -0.86   \n",
       "2                   -0.26                 -0.24             0.28   \n",
       "3                   -0.33                 -0.38             0.81   \n",
       "\n",
       "         total_purch_yr  total_dollars_yr  total_dollars_other  \n",
       "Cluster                                                         \n",
       "0                 -0.12             -0.04                -0.06  \n",
       "1                 -0.93             -0.33                -0.35  \n",
       "2                  0.30              1.09                 1.14  \n",
       "3                  0.85             -0.64                -0.64  "
      ]
     },
     "execution_count": 10,
     "metadata": {},
     "output_type": "execute_result"
    }
   ],
   "source": [
    "labels = kmeans.labels_\n",
    "\n",
    "rfm_normalize_cluster = rfm_normalize.assign(Cluster = labels)\n",
    "grouped = rfm_normalize_cluster.groupby(['Cluster'])\n",
    "\n",
    "grouped.agg({ \n",
    "    'days_since_purch': 'mean',\n",
    "    'days_since_sitevisit': 'mean', \n",
    "    'total_visits_yr': 'mean',\n",
    "    'total_purch_yr': 'mean', \n",
    "    'total_dollars_yr': 'mean', \n",
    "    'total_dollars_other': 'mean'}).round(2)"
   ]
  },
  {
   "cell_type": "markdown",
   "id": "aadae8b8",
   "metadata": {},
   "source": [
    "### I. Build any four simple visualizations to help management better understand your clusters\n",
    "\n",
    "(a simple visualization could be a histogram, a barplot, a scatterplot, etc. – it should show original variables from the dataset) You may wish to facet your visualizations by cluster.\n",
    "For each one of your visualizations, include 2-3 sentences of description/\n",
    "explanation. What does it show about your model?"
   ]
  },
  {
   "cell_type": "code",
   "execution_count": 11,
   "id": "a9a1588c",
   "metadata": {},
   "outputs": [],
   "source": [
    "# use original variables\n",
    "rfm['Cluster'] = rfm_normalize_cluster['Cluster'] "
   ]
  },
  {
   "cell_type": "code",
   "execution_count": 12,
   "id": "829a4077",
   "metadata": {},
   "outputs": [
    {
     "data": {
      "text/plain": [
       "[Text(0.5, 1.0, '1st Plot: # of time visited in past 365 days')]"
      ]
     },
     "execution_count": 12,
     "metadata": {},
     "output_type": "execute_result"
    },
    {
     "data": {
      "image/png": "[encoded data removed]",
      "text/plain": [
       "<Figure size 432x288 with 1 Axes>"
      ]
     },
     "metadata": {
      "needs_background": "light"
     },
     "output_type": "display_data"
    }
   ],
   "source": [
    "import seaborn as sns\n",
    "sns.scatterplot(data = rfm, x = 'Cluster' , y = 'total_visits_yr', hue='Cluster').set(title='1st Plot: # of time visited in past 365 days')"
   ]
  },
  {
   "cell_type": "markdown",
   "id": "d68935bc",
   "metadata": {},
   "source": [
    "Description: \n",
    "\n",
    "As we set at first, there are 4 clusters in total. In terms of the number of times that the person visited online store in the past 365 days, Cluster 0 has the lowest number of times, while Cluster 3 visited the most, and Cluster 1 and 3 fall in the middle range."
   ]
  },
  {
   "cell_type": "code",
   "execution_count": 13,
   "id": "aa2682f5",
   "metadata": {},
   "outputs": [
    {
     "data": {
      "text/plain": [
       "[Text(0.5, 1.0, '2nd Plot: # of payments in past 365 days')]"
      ]
     },
     "execution_count": 13,
     "metadata": {},
     "output_type": "execute_result"
    },
    {
     "data": {
      "image/png": "[encoded data removed]",
      "text/plain": [
       "<Figure size 432x288 with 1 Axes>"
      ]
     },
     "metadata": {
      "needs_background": "light"
     },
     "output_type": "display_data"
    }
   ],
   "source": [
    "sns.barplot(data = rfm, x = 'Cluster' , y = 'total_purch_yr', hue='Cluster').set(title='2nd Plot: # of payments in past 365 days')"
   ]
  },
  {
   "cell_type": "markdown",
   "id": "b3781438",
   "metadata": {},
   "source": [
    "Description: \n",
    "\n",
    "In terms of the number of times the person purchased in the past 365 days, we can see Cluster 0 has the lowest times of payment, while Cluster 3 make the most times payment, and Cluster 1 and 3 fall in the middle range, which are along with their lowest visit times."
   ]
  },
  {
   "cell_type": "code",
   "execution_count": 14,
   "id": "4a6b606e",
   "metadata": {},
   "outputs": [
    {
     "data": {
      "text/plain": [
       "[Text(0.5, 1.0, '3rd Plot: $ spent in past 365 days')]"
      ]
     },
     "execution_count": 14,
     "metadata": {},
     "output_type": "execute_result"
    },
    {
     "data": {
      "image/png": "[encoded data removed]",
      "text/plain": [
       "<Figure size 432x288 with 1 Axes>"
      ]
     },
     "metadata": {
      "needs_background": "light"
     },
     "output_type": "display_data"
    }
   ],
   "source": [
    "sns.barplot(data = rfm, x = \"Cluster\", y = 'total_dollars_yr', hue='Cluster').set(title='3rd Plot: $ spent in past 365 days')"
   ]
  },
  {
   "cell_type": "markdown",
   "id": "c7d30cf7",
   "metadata": {},
   "source": [
    "Description: \n",
    "\n",
    "The barplot depicts each cluster in terms of the total dollars the person spent in the past 365 days. We can see that Cluster 3 contributes the least to the total revenue of the online store although it makes the most times payment, and Cluster 1 contributes the most to the total revenue even if it just has an average time of purchase."
   ]
  },
  {
   "cell_type": "code",
   "execution_count": 15,
   "id": "92dac3a7",
   "metadata": {},
   "outputs": [
    {
     "data": {
      "text/plain": [
       "[Text(0.5, 1.0, '4th Plot: days_since_sitevisit')]"
      ]
     },
     "execution_count": 15,
     "metadata": {},
     "output_type": "execute_result"
    },
    {
     "data": {
      "image/png": "[encoded data removed]",
      "text/plain": [
       "<Figure size 432x288 with 1 Axes>"
      ]
     },
     "metadata": {
      "needs_background": "light"
     },
     "output_type": "display_data"
    }
   ],
   "source": [
    "sns.boxplot(data = rfm, x = \"Cluster\", y = 'days_since_sitevisit', hue='Cluster').set(title='4th Plot: days_since_sitevisit')"
   ]
  },
  {
   "cell_type": "markdown",
   "id": "6396867c",
   "metadata": {},
   "source": [
    "Description: \n",
    "\n",
    "The boxplot depicts each cluster in terms of the number of days that have elapsed since the customer last visited the online store. We can see that only Cluster 2 has a significant difference which means this group of people leaves the longest, while the other groups are almost at the same level."
   ]
  },
  {
   "cell_type": "markdown",
   "id": "09ca607d",
   "metadata": {},
   "source": [
    "### J. Give a descriptive name to each one of your clusters, along with a few sentences of explanation for the name that you chose. \n",
    "\n",
    "As you describe each segment,\n",
    "think about the types of customers likely to belong to each group. For each cluster, also include a couple sentences about targeting. How can Lobster Land reach this group, specifically?\n",
    "\n",
    "Answer: \n",
    "\n",
    "For Cluster 0, I would like to call it \"Nonpay\". Since these people visit the online store least with little pay. To target these people, we can send a rewarding survey to reach out the reasons why they are not like visiting and spending in our online store and upgrade our website and rewarding strategies to target these people.\n",
    "\n",
    "\n",
    "For Cluster 1, I named it \"Cashcow\". Since these people are willing to pay and to pay large sums in the online store, although they are not the people who visit the online store most. To activate these people to pay more, I recommend sending them **Full Discount Coupons**. Also, we can send them the most updated products regularly and interact closely with them which can persuade them to pay more subconsciously.\n",
    "\n",
    "For Cluster 2, I named it \"Opportunity\". Since this group of people performs well on both the 'total_dollars_yr' and 'total_purch_yr' aspects, they are the group that has not visited the online store the longest. To target this group, I recommend to sent some **Free Shipping Coupons** with some words of sincere greeting to show our courtesy. The reason why I prefer Free shipping Coupons is that compared to Cluster 1, they are less inclined to spend large sums.\n",
    "\n",
    "\n",
    "For Cluster 3, I named it \"Scrooge\". Since they visit the online store most and make the most times of payments but the total dollars are the least. It turns out that they are only willing to pay for the cheap stuff. For these people, I recommend increasing the frequency of sending **1 item deal coupons**. With a large discount, they will be willing to pay for the goods at a higher price. And in this way, they may develop their spending habits on high consumption."
   ]
  },
  {
   "cell_type": "markdown",
   "id": "98407343",
   "metadata": {},
   "source": [
    "#  Part II: Conjoint Analysis with a Linear Model"
   ]
  },
  {
   "cell_type": "markdown",
   "id": "bd82357f",
   "metadata": {},
   "source": [
    "### A. Read the dataset haunted_hayride.csv into your local environment in Jupyter Notebook."
   ]
  },
  {
   "cell_type": "code",
   "execution_count": 16,
   "id": "9bc2842b",
   "metadata": {},
   "outputs": [
    {
     "name": "stdout",
     "output_type": "stream",
     "text": [
      "<class 'pandas.core.frame.DataFrame'>\n",
      "RangeIndex: 864 entries, 0 to 863\n",
      "Data columns (total 9 columns):\n",
      " #   Column           Non-Null Count  Dtype  \n",
      "---  ------           --------------  -----  \n",
      " 0   bundleID         864 non-null    int64  \n",
      " 1   paxpercar        864 non-null    int64  \n",
      " 2   total_dark_time  864 non-null    int64  \n",
      " 3   flashing_lights  864 non-null    object \n",
      " 4   theme            864 non-null    object \n",
      " 5   total_time       864 non-null    int64  \n",
      " 6   ghost_touch      864 non-null    object \n",
      " 7   no_phone_zone    864 non-null    object \n",
      " 8   avg_rating       864 non-null    float64\n",
      "dtypes: float64(1), int64(4), object(4)\n",
      "memory usage: 60.9+ KB\n"
     ]
    }
   ],
   "source": [
    "dt = pd.read_csv(\"haunted_hayride.csv\") \n",
    "dt.info()"
   ]
  },
  {
   "cell_type": "markdown",
   "id": "f0d31c12",
   "metadata": {},
   "source": [
    "### B. Based on the descriptions shown above, which of your variables are numeric, and which are categorical?\n",
    "\n",
    "Answer: 'bundleID', 'avg_rating' are numeric variables, while the others are categorical ones. Although the datatype of 'paxpercar', 'total_dark_time' are int64, the number does not have valid mathematical meaning, these variables still belong to categorical. \n",
    "\n",
    "### C. After first removing the bundleID variable, use the pandas get_dummies() function in order to prepare the remaining variables for use in a linear model. \n",
    "\n",
    "Inside this function, include this argument: drop_first = True. Doing this will save us from\n",
    "the multicollinearity problem that would make our model unreliable. Be sure to\n",
    "dummify ALL of your input variables, even the numeric ones.\n",
    "\n"
   ]
  },
  {
   "cell_type": "code",
   "execution_count": 17,
   "id": "e76a68ea",
   "metadata": {},
   "outputs": [],
   "source": [
    "dt.columns\n",
    "dt.drop(\"bundleID\", axis=1, inplace=True)"
   ]
  },
  {
   "cell_type": "code",
   "execution_count": 18,
   "id": "5fceda28",
   "metadata": {},
   "outputs": [
    {
     "data": {
      "text/html": [
       "<div>\n",
       "<style scoped>\n",
       "    .dataframe tbody tr th:only-of-type {\n",
       "        vertical-align: middle;\n",
       "    }\n",
       "\n",
       "    .dataframe tbody tr th {\n",
       "        vertical-align: top;\n",
       "    }\n",
       "\n",
       "    .dataframe thead th {\n",
       "        text-align: right;\n",
       "    }\n",
       "</style>\n",
       "<table border=\"1\" class=\"dataframe\">\n",
       "  <thead>\n",
       "    <tr style=\"text-align: right;\">\n",
       "      <th></th>\n",
       "      <th>avg_rating</th>\n",
       "      <th>paxpercar_8</th>\n",
       "      <th>paxpercar_12</th>\n",
       "      <th>total_dark_time_7</th>\n",
       "      <th>total_dark_time_12</th>\n",
       "      <th>flashing_lights_Yes</th>\n",
       "      <th>theme_Pumpkin_Terror</th>\n",
       "      <th>theme_Vampire</th>\n",
       "      <th>theme_Zombie Apocalypse</th>\n",
       "      <th>total_time_240</th>\n",
       "      <th>total_time_420</th>\n",
       "      <th>ghost_touch_Yes</th>\n",
       "      <th>no_phone_zone_Yes</th>\n",
       "    </tr>\n",
       "  </thead>\n",
       "  <tbody>\n",
       "    <tr>\n",
       "      <th>0</th>\n",
       "      <td>5.455046</td>\n",
       "      <td>0</td>\n",
       "      <td>0</td>\n",
       "      <td>0</td>\n",
       "      <td>0</td>\n",
       "      <td>1</td>\n",
       "      <td>1</td>\n",
       "      <td>0</td>\n",
       "      <td>0</td>\n",
       "      <td>0</td>\n",
       "      <td>0</td>\n",
       "      <td>1</td>\n",
       "      <td>1</td>\n",
       "    </tr>\n",
       "    <tr>\n",
       "      <th>1</th>\n",
       "      <td>4.354482</td>\n",
       "      <td>0</td>\n",
       "      <td>0</td>\n",
       "      <td>0</td>\n",
       "      <td>0</td>\n",
       "      <td>1</td>\n",
       "      <td>1</td>\n",
       "      <td>0</td>\n",
       "      <td>0</td>\n",
       "      <td>0</td>\n",
       "      <td>0</td>\n",
       "      <td>1</td>\n",
       "      <td>0</td>\n",
       "    </tr>\n",
       "    <tr>\n",
       "      <th>2</th>\n",
       "      <td>5.186594</td>\n",
       "      <td>0</td>\n",
       "      <td>0</td>\n",
       "      <td>0</td>\n",
       "      <td>0</td>\n",
       "      <td>1</td>\n",
       "      <td>1</td>\n",
       "      <td>0</td>\n",
       "      <td>0</td>\n",
       "      <td>0</td>\n",
       "      <td>0</td>\n",
       "      <td>0</td>\n",
       "      <td>1</td>\n",
       "    </tr>\n",
       "    <tr>\n",
       "      <th>3</th>\n",
       "      <td>9.282721</td>\n",
       "      <td>0</td>\n",
       "      <td>0</td>\n",
       "      <td>0</td>\n",
       "      <td>0</td>\n",
       "      <td>1</td>\n",
       "      <td>1</td>\n",
       "      <td>0</td>\n",
       "      <td>0</td>\n",
       "      <td>0</td>\n",
       "      <td>0</td>\n",
       "      <td>0</td>\n",
       "      <td>0</td>\n",
       "    </tr>\n",
       "    <tr>\n",
       "      <th>4</th>\n",
       "      <td>5.205072</td>\n",
       "      <td>0</td>\n",
       "      <td>0</td>\n",
       "      <td>0</td>\n",
       "      <td>0</td>\n",
       "      <td>1</td>\n",
       "      <td>1</td>\n",
       "      <td>0</td>\n",
       "      <td>0</td>\n",
       "      <td>1</td>\n",
       "      <td>0</td>\n",
       "      <td>1</td>\n",
       "      <td>1</td>\n",
       "    </tr>\n",
       "  </tbody>\n",
       "</table>\n",
       "</div>"
      ],
      "text/plain": [
       "   avg_rating  paxpercar_8  paxpercar_12  total_dark_time_7  \\\n",
       "0    5.455046            0             0                  0   \n",
       "1    4.354482            0             0                  0   \n",
       "2    5.186594            0             0                  0   \n",
       "3    9.282721            0             0                  0   \n",
       "4    5.205072            0             0                  0   \n",
       "\n",
       "   total_dark_time_12  flashing_lights_Yes  theme_Pumpkin_Terror  \\\n",
       "0                   0                    1                     1   \n",
       "1                   0                    1                     1   \n",
       "2                   0                    1                     1   \n",
       "3                   0                    1                     1   \n",
       "4                   0                    1                     1   \n",
       "\n",
       "   theme_Vampire  theme_Zombie Apocalypse  total_time_240  total_time_420  \\\n",
       "0              0                        0               0               0   \n",
       "1              0                        0               0               0   \n",
       "2              0                        0               0               0   \n",
       "3              0                        0               0               0   \n",
       "4              0                        0               1               0   \n",
       "\n",
       "   ghost_touch_Yes  no_phone_zone_Yes  \n",
       "0                1                  1  \n",
       "1                1                  0  \n",
       "2                0                  1  \n",
       "3                0                  0  \n",
       "4                1                  1  "
      ]
     },
     "execution_count": 18,
     "metadata": {},
     "output_type": "execute_result"
    }
   ],
   "source": [
    "dt_dummy = pd.get_dummies(dt, drop_first=True, columns=['paxpercar', 'total_dark_time', 'flashing_lights', 'theme',\n",
    "       'total_time', 'ghost_touch', 'no_phone_zone'])\n",
    "dt_dummy.head()"
   ]
  },
  {
   "cell_type": "markdown",
   "id": "c90d5c73",
   "metadata": {},
   "source": [
    "a. Why should the numeric input variables based on this survey data be\n",
    "dummified?\n",
    "\n",
    "Answer: If we provide respondents with every specific bundle to choose from, we have (# of levels of freature1) * (# of levels of freature1)* (# of levels of freature3)... in total to consider. To avoid this complex computation, we can ask them to choose different features(variables) and then apply Conjoint Analysis to build a linear regression model. So dummified variables for ratings-based/metric-based Conjoint Analysis are necessary.\n",
    "\n",
    "### D.Build a linear model with your data, using the average rating as the outcome variable, and with all of your other variables as inputs."
   ]
  },
  {
   "cell_type": "code",
   "execution_count": 19,
   "id": "86d6dcdc",
   "metadata": {},
   "outputs": [
    {
     "data": {
      "text/plain": [
       "Index(['avg_rating', 'paxpercar_8', 'paxpercar_12', 'total_dark_time_7',\n",
       "       'total_dark_time_12', 'flashing_lights_Yes', 'theme_Pumpkin_Terror',\n",
       "       'theme_Vampire', 'theme_Zombie Apocalypse', 'total_time_240',\n",
       "       'total_time_420', 'ghost_touch_Yes', 'no_phone_zone_Yes'],\n",
       "      dtype='object')"
      ]
     },
     "execution_count": 19,
     "metadata": {},
     "output_type": "execute_result"
    }
   ],
   "source": [
    "dt_dummy.columns"
   ]
  },
  {
   "cell_type": "code",
   "execution_count": 20,
   "id": "870e5d39",
   "metadata": {},
   "outputs": [
    {
     "data": {
      "text/plain": [
       "LinearRegression()"
      ]
     },
     "execution_count": 20,
     "metadata": {},
     "output_type": "execute_result"
    }
   ],
   "source": [
    "X = dt_dummy[['paxpercar_8', 'paxpercar_12', 'total_dark_time_7',\n",
    "       'total_dark_time_12', 'flashing_lights_Yes', 'theme_Pumpkin_Terror',\n",
    "       'theme_Vampire', 'theme_Zombie Apocalypse', 'total_time_240',\n",
    "       'total_time_420', 'ghost_touch_Yes', 'no_phone_zone_Yes']]\n",
    "y = dt_dummy['avg_rating']\n",
    "from sklearn.linear_model import LinearRegression\n",
    "from sklearn import metrics\n",
    "regressor = LinearRegression()\n",
    "regressor.fit(X, y)"
   ]
  },
  {
   "cell_type": "markdown",
   "id": "c1f7a192",
   "metadata": {},
   "source": [
    "### E. Display the coefficient values of your model inputs."
   ]
  },
  {
   "cell_type": "code",
   "execution_count": 21,
   "id": "7dbda1fe",
   "metadata": {},
   "outputs": [
    {
     "data": {
      "text/plain": [
       "5.896481750848408"
      ]
     },
     "execution_count": 21,
     "metadata": {},
     "output_type": "execute_result"
    }
   ],
   "source": [
    "regressor.intercept_"
   ]
  },
  {
   "cell_type": "code",
   "execution_count": 22,
   "id": "85db3f7e",
   "metadata": {},
   "outputs": [
    {
     "data": {
      "text/html": [
       "<div>\n",
       "<style scoped>\n",
       "    .dataframe tbody tr th:only-of-type {\n",
       "        vertical-align: middle;\n",
       "    }\n",
       "\n",
       "    .dataframe tbody tr th {\n",
       "        vertical-align: top;\n",
       "    }\n",
       "\n",
       "    .dataframe thead th {\n",
       "        text-align: right;\n",
       "    }\n",
       "</style>\n",
       "<table border=\"1\" class=\"dataframe\">\n",
       "  <thead>\n",
       "    <tr style=\"text-align: right;\">\n",
       "      <th></th>\n",
       "      <th>Coefficient</th>\n",
       "    </tr>\n",
       "  </thead>\n",
       "  <tbody>\n",
       "    <tr>\n",
       "      <th>paxpercar_8</th>\n",
       "      <td>-0.670634</td>\n",
       "    </tr>\n",
       "    <tr>\n",
       "      <th>paxpercar_12</th>\n",
       "      <td>-0.254146</td>\n",
       "    </tr>\n",
       "    <tr>\n",
       "      <th>total_dark_time_7</th>\n",
       "      <td>-0.135522</td>\n",
       "    </tr>\n",
       "    <tr>\n",
       "      <th>total_dark_time_12</th>\n",
       "      <td>-0.704311</td>\n",
       "    </tr>\n",
       "    <tr>\n",
       "      <th>flashing_lights_Yes</th>\n",
       "      <td>0.765746</td>\n",
       "    </tr>\n",
       "    <tr>\n",
       "      <th>theme_Pumpkin_Terror</th>\n",
       "      <td>0.281009</td>\n",
       "    </tr>\n",
       "    <tr>\n",
       "      <th>theme_Vampire</th>\n",
       "      <td>1.065442</td>\n",
       "    </tr>\n",
       "    <tr>\n",
       "      <th>theme_Zombie Apocalypse</th>\n",
       "      <td>0.370184</td>\n",
       "    </tr>\n",
       "    <tr>\n",
       "      <th>total_time_240</th>\n",
       "      <td>0.723643</td>\n",
       "    </tr>\n",
       "    <tr>\n",
       "      <th>total_time_420</th>\n",
       "      <td>0.116849</td>\n",
       "    </tr>\n",
       "    <tr>\n",
       "      <th>ghost_touch_Yes</th>\n",
       "      <td>-2.562132</td>\n",
       "    </tr>\n",
       "    <tr>\n",
       "      <th>no_phone_zone_Yes</th>\n",
       "      <td>-0.260497</td>\n",
       "    </tr>\n",
       "  </tbody>\n",
       "</table>\n",
       "</div>"
      ],
      "text/plain": [
       "                         Coefficient\n",
       "paxpercar_8                -0.670634\n",
       "paxpercar_12               -0.254146\n",
       "total_dark_time_7          -0.135522\n",
       "total_dark_time_12         -0.704311\n",
       "flashing_lights_Yes         0.765746\n",
       "theme_Pumpkin_Terror        0.281009\n",
       "theme_Vampire               1.065442\n",
       "theme_Zombie Apocalypse     0.370184\n",
       "total_time_240              0.723643\n",
       "total_time_420              0.116849\n",
       "ghost_touch_Yes            -2.562132\n",
       "no_phone_zone_Yes          -0.260497"
      ]
     },
     "execution_count": 22,
     "metadata": {},
     "output_type": "execute_result"
    }
   ],
   "source": [
    "coef_df = pd.DataFrame(regressor.coef_, X.columns, columns=['Coefficient'])\n",
    "coef_df"
   ]
  },
  {
   "cell_type": "markdown",
   "id": "05c13ae4",
   "metadata": {},
   "source": [
    "### F. Now, deliver some paragraphs of analysis for Lobster Land management about what your model is showing you.\n",
    "\n",
    "Answer: Based on the result of regression, we can see that:\n",
    "\n",
    "(1)People prefer only 4 people on the ride at once, and there is an obvious jump turning to 8 passengers per car. However, considering the operating costs, I think 8 passengers is not a bad choice. Since it is reasonable that people prefer private journeys with their friends, but it is also acceptable if there is another group of people. The premise is that no one is taken apart.\n",
    "\n",
    "(2)no period of the ride in the dark is the most popular choice, but the gap between 7 seconds of dark and non-dark is small. If the electricity is a huge cost, I think a 7-seconds dark journey is acceptable. If not, just apply the non-dark plan.\n",
    "\n",
    "(3)haunted hayride with flashing lights is a more popular choice, so I recommend adding this function.\n",
    "\n",
    "(4)People prefer the Vampire theme the most, while Pumpkin_Terror and Zombie Apocalypse themes are almost at the same level of popularity. To give visitors more choices to experience, I recommend producing two themes, the Vampire theme responding to the result of the survey, another is Pumpkin_Terror theme which response to the season. And there may be a bias among respondents, Pumplin_Terror theme may preferable for children who are the other main parts of visitors but do not involve in the surveys.\n",
    "\n",
    "(5)The entire journey finished in 240 seconds without ghost touch and not required to drop the phones is preferable, so I recommend these options without more discussion."
   ]
  },
  {
   "cell_type": "markdown",
   "id": "fd964bfa",
   "metadata": {},
   "source": [
    "# Wildcard: Marketing & Segments\n",
    "\n",
    "A. Find ANY advertisement…ANYWHERE. As you walk around in your daily life, you\n",
    "might look for an ad on the side of the T, on a bus stop, on a poster, etc. Alternatively, you could use an advertisement that you encounter while browsing the web.\n"
   ]
  },
  {
   "cell_type": "code",
   "execution_count": 23,
   "id": "07cefbb2",
   "metadata": {},
   "outputs": [
    {
     "data": {
      "text/plain": [
       "<matplotlib.image.AxesImage at 0x1fbda68f730>"
      ]
     },
     "execution_count": 23,
     "metadata": {},
     "output_type": "execute_result"
    },
    {
     "data": {
      "image/png": "[encoded data removed]",
      "text/plain": [
       "<Figure size 432x288 with 1 Axes>"
      ]
     },
     "metadata": {
      "needs_background": "light"
     },
     "output_type": "display_data"
    }
   ],
   "source": [
    "import matplotlib.image as mpimg\n",
    "import matplotlib.pyplot as plt\n",
    "img = mpimg.imread('ad.jpg')\n",
    "plt.imshow(img)"
   ]
  },
  {
   "cell_type": "markdown",
   "id": "950c29b2",
   "metadata": {},
   "source": [
    "Answer: This ad is sponsered by Boston Symphony, which appears when I swipe on the ins story. Based on the common cluster types, I think the ad is targeting people who are adult who can keep quiet in the whole process and appreciate the symphony, and who is interested and also willing to pay for arts. I think I am in the segment. My Spotify often plays symphony when I am studying or reading, I think it can calm me down and help me focus on studying and detect the time past at the same time. And I also often view some online shops for museum souvenirs and follow some illustrators and musicians. Maybe ins also detect I bought a music opera ticket called Hairspray recently."
   ]
  },
  {
   "cell_type": "code",
   "execution_count": null,
   "id": "66ee79bb",
   "metadata": {},
   "outputs": [],
   "source": []
  }
 ],
 "metadata": {
  "kernelspec": {
   "display_name": "Python 3 (ipykernel)",
   "language": "python",
   "name": "python3"
  },
  "language_info": {
   "codemirror_mode": {
    "name": "ipython",
    "version": 3
   },
   "file_extension": ".py",
   "mimetype": "text/x-python",
   "name": "python",
   "nbconvert_exporter": "python",
   "pygments_lexer": "ipython3",
   "version": "3.9.7"
  }
 },
 "nbformat": 4,
 "nbformat_minor": 5
}
