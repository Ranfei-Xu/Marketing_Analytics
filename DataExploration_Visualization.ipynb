{
 "cells": [
  {
   "cell_type": "markdown",
   "id": "e21dcc62",
   "metadata": {},
   "source": [
    "# Assignment I: EDA\n",
    "### Ranfei Xu"
   ]
  },
  {
   "cell_type": "code",
   "execution_count": 1,
   "id": "80f28ead",
   "metadata": {},
   "outputs": [],
   "source": [
    "import pandas as pd\n",
    "import numpy as np\n",
    "\n",
    "# read data\n",
    "dt = pd.read_csv('E:/22FALL/AD654/lobster22.csv')"
   ]
  },
  {
   "cell_type": "markdown",
   "id": "78e47aa6",
   "metadata": {},
   "source": [
    "# EDA\n",
    "\n",
    "#### A. Call the head() function on this dataframe and look at your results"
   ]
  },
  {
   "cell_type": "code",
   "execution_count": 2,
   "id": "7fe50c4e",
   "metadata": {},
   "outputs": [
    {
     "data": {
      "text/html": [
       "<div>\n",
       "<style scoped>\n",
       "    .dataframe tbody tr th:only-of-type {\n",
       "        vertical-align: middle;\n",
       "    }\n",
       "\n",
       "    .dataframe tbody tr th {\n",
       "        vertical-align: top;\n",
       "    }\n",
       "\n",
       "    .dataframe thead th {\n",
       "        text-align: right;\n",
       "    }\n",
       "</style>\n",
       "<table border=\"1\" class=\"dataframe\">\n",
       "  <thead>\n",
       "    <tr style=\"text-align: right;\">\n",
       "      <th></th>\n",
       "      <th>Date</th>\n",
       "      <th>Weekday</th>\n",
       "      <th>LowTemp</th>\n",
       "      <th>HighTemp</th>\n",
       "      <th>DayPass</th>\n",
       "      <th>TotalPax</th>\n",
       "      <th>Precip</th>\n",
       "      <th>MerchRev</th>\n",
       "      <th>SnackRev</th>\n",
       "      <th>LobsteramaRev</th>\n",
       "      <th>GoldZoneRev</th>\n",
       "      <th>CSD_Complaints</th>\n",
       "      <th>Ridership</th>\n",
       "      <th>TotalRev</th>\n",
       "    </tr>\n",
       "  </thead>\n",
       "  <tbody>\n",
       "    <tr>\n",
       "      <th>0</th>\n",
       "      <td>May 30</td>\n",
       "      <td>Monday</td>\n",
       "      <td>53</td>\n",
       "      <td>82</td>\n",
       "      <td>5471</td>\n",
       "      <td>6999</td>\n",
       "      <td>0</td>\n",
       "      <td>56838.04</td>\n",
       "      <td>28032.0</td>\n",
       "      <td>35838.53</td>\n",
       "      <td>27437.39</td>\n",
       "      <td>10</td>\n",
       "      <td>28068</td>\n",
       "      <td>168826.54</td>\n",
       "    </tr>\n",
       "    <tr>\n",
       "      <th>1</th>\n",
       "      <td>May 31</td>\n",
       "      <td>Tuesday</td>\n",
       "      <td>50</td>\n",
       "      <td>72</td>\n",
       "      <td>2887</td>\n",
       "      <td>4082</td>\n",
       "      <td>T</td>\n",
       "      <td>33148.98</td>\n",
       "      <td>15200.0</td>\n",
       "      <td>20904.45</td>\n",
       "      <td>15999.55</td>\n",
       "      <td>6</td>\n",
       "      <td>16370</td>\n",
       "      <td>98453.38</td>\n",
       "    </tr>\n",
       "    <tr>\n",
       "      <th>2</th>\n",
       "      <td>June 1</td>\n",
       "      <td>Wednesday</td>\n",
       "      <td>50</td>\n",
       "      <td>59</td>\n",
       "      <td>3258</td>\n",
       "      <td>4424</td>\n",
       "      <td>0.03</td>\n",
       "      <td>35923.44</td>\n",
       "      <td>18132.0</td>\n",
       "      <td>22649.05</td>\n",
       "      <td>17341.59</td>\n",
       "      <td>1</td>\n",
       "      <td>17739</td>\n",
       "      <td>106697.74</td>\n",
       "    </tr>\n",
       "    <tr>\n",
       "      <th>3</th>\n",
       "      <td>June 2</td>\n",
       "      <td>Thursday</td>\n",
       "      <td>51</td>\n",
       "      <td>64</td>\n",
       "      <td>6430</td>\n",
       "      <td>7167</td>\n",
       "      <td>0.23</td>\n",
       "      <td>58198.77</td>\n",
       "      <td>29888.0</td>\n",
       "      <td>36693.66</td>\n",
       "      <td>28095.16</td>\n",
       "      <td>8</td>\n",
       "      <td>28740</td>\n",
       "      <td>172868.15</td>\n",
       "    </tr>\n",
       "    <tr>\n",
       "      <th>4</th>\n",
       "      <td>June 3</td>\n",
       "      <td>Friday</td>\n",
       "      <td>50</td>\n",
       "      <td>55</td>\n",
       "      <td>5981</td>\n",
       "      <td>6388</td>\n",
       "      <td>0.12</td>\n",
       "      <td>51873.00</td>\n",
       "      <td>21648.0</td>\n",
       "      <td>32711.07</td>\n",
       "      <td>25038.58</td>\n",
       "      <td>7</td>\n",
       "      <td>25615</td>\n",
       "      <td>154067.45</td>\n",
       "    </tr>\n",
       "  </tbody>\n",
       "</table>\n",
       "</div>"
      ],
      "text/plain": [
       "     Date    Weekday  LowTemp  HighTemp  DayPass  TotalPax Precip  MerchRev  \\\n",
       "0  May 30     Monday       53        82     5471      6999      0  56838.04   \n",
       "1  May 31    Tuesday       50        72     2887      4082      T  33148.98   \n",
       "2  June 1  Wednesday       50        59     3258      4424   0.03  35923.44   \n",
       "3  June 2   Thursday       51        64     6430      7167   0.23  58198.77   \n",
       "4  June 3     Friday       50        55     5981      6388   0.12  51873.00   \n",
       "\n",
       "   SnackRev  LobsteramaRev  GoldZoneRev  CSD_Complaints  Ridership   TotalRev  \n",
       "0   28032.0       35838.53     27437.39              10      28068  168826.54  \n",
       "1   15200.0       20904.45     15999.55               6      16370   98453.38  \n",
       "2   18132.0       22649.05     17341.59               1      17739  106697.74  \n",
       "3   29888.0       36693.66     28095.16               8      28740  172868.15  \n",
       "4   21648.0       32711.07     25038.58               7      25615  154067.45  "
      ]
     },
     "execution_count": 2,
     "metadata": {},
     "output_type": "execute_result"
    }
   ],
   "source": [
    "dt.head()"
   ]
  },
  {
   "cell_type": "markdown",
   "id": "eddf108e",
   "metadata": {},
   "source": [
    "#### B. How many rows of the dataset are visible in Jupyter now?\n",
    "\n",
    "Answer: According to QA, 5 rows are visible in Jupyter now."
   ]
  },
  {
   "cell_type": "markdown",
   "id": "16271658",
   "metadata": {},
   "source": [
    "#### C. Take a look at the dataset’s shape attribute. \n",
    "\n",
    "a. How many rows, and how many columns, are in this entire dataframe?"
   ]
  },
  {
   "cell_type": "code",
   "execution_count": 3,
   "id": "7bf2fc1e",
   "metadata": {},
   "outputs": [
    {
     "data": {
      "text/plain": [
       "(99, 14)"
      ]
     },
     "execution_count": 3,
     "metadata": {},
     "output_type": "execute_result"
    }
   ],
   "source": [
    "dt.shape"
   ]
  },
  {
   "cell_type": "markdown",
   "id": "799a3b6b",
   "metadata": {},
   "source": [
    "Answer: There are 99 rows and 14 columns in this entire dataframe."
   ]
  },
  {
   "cell_type": "markdown",
   "id": "1928cfcc",
   "metadata": {},
   "source": [
    "#### D. Read the dataset description, and take a look at the variables in the dataset.\n",
    "\n",
    "a. Which of your variables should be seen as categorical, and which ones should be seen as numeric?"
   ]
  },
  {
   "cell_type": "code",
   "execution_count": 4,
   "id": "cad8bfd9",
   "metadata": {},
   "outputs": [
    {
     "name": "stdout",
     "output_type": "stream",
     "text": [
      "<class 'pandas.core.frame.DataFrame'>\n",
      "RangeIndex: 99 entries, 0 to 98\n",
      "Data columns (total 14 columns):\n",
      " #   Column          Non-Null Count  Dtype  \n",
      "---  ------          --------------  -----  \n",
      " 0   Date            99 non-null     object \n",
      " 1   Weekday         99 non-null     object \n",
      " 2   LowTemp         99 non-null     int64  \n",
      " 3   HighTemp        99 non-null     int64  \n",
      " 4   DayPass         99 non-null     int64  \n",
      " 5   TotalPax        99 non-null     int64  \n",
      " 6   Precip          99 non-null     object \n",
      " 7   MerchRev        99 non-null     float64\n",
      " 8   SnackRev        99 non-null     float64\n",
      " 9   LobsteramaRev   99 non-null     float64\n",
      " 10  GoldZoneRev     99 non-null     float64\n",
      " 11  CSD_Complaints  99 non-null     int64  \n",
      " 12  Ridership       99 non-null     int64  \n",
      " 13  TotalRev        97 non-null     float64\n",
      "dtypes: float64(5), int64(6), object(3)\n",
      "memory usage: 11.0+ KB\n"
     ]
    }
   ],
   "source": [
    "dt.info()"
   ]
  },
  {
   "cell_type": "markdown",
   "id": "b06ef42e",
   "metadata": {},
   "source": [
    "Answer: Variable'Weekday'should be seen as categorical, while the others excluding variable 'Date' should be seen as numeric. Although there are some 'T' in 'Precip'column, we will fix it to numeric later."
   ]
  },
  {
   "cell_type": "markdown",
   "id": "aff43752",
   "metadata": {},
   "source": [
    "#### E. Replace the ‘T’ values with a suitable numeric alternative so that this variable can be seen by pandas as numeric."
   ]
  },
  {
   "cell_type": "code",
   "execution_count": 5,
   "id": "c8c531d5",
   "metadata": {},
   "outputs": [],
   "source": [
    "# replavce T with value 0.01\n",
    "dt.Precip.replace('T', 0.01, inplace=True) \n",
    "dt['Precip'] = dt['Precip'].astype('float64')"
   ]
  },
  {
   "cell_type": "code",
   "execution_count": 6,
   "id": "42b55d6e",
   "metadata": {},
   "outputs": [
    {
     "data": {
      "text/plain": [
       "0"
      ]
     },
     "execution_count": 6,
     "metadata": {},
     "output_type": "execute_result"
    }
   ],
   "source": [
    "# check \n",
    "len([value for value in dt.Precip if value == 'T'])"
   ]
  },
  {
   "cell_type": "markdown",
   "id": "2b1eb2f3",
   "metadata": {},
   "source": [
    "#### F. Lobster Land management just realized that they forgot a couple of things here.\n",
    "\n",
    "a. Add a column for “Passholders”"
   ]
  },
  {
   "cell_type": "code",
   "execution_count": 7,
   "id": "2a23c7d9",
   "metadata": {},
   "outputs": [
    {
     "data": {
      "text/html": [
       "<div>\n",
       "<style scoped>\n",
       "    .dataframe tbody tr th:only-of-type {\n",
       "        vertical-align: middle;\n",
       "    }\n",
       "\n",
       "    .dataframe tbody tr th {\n",
       "        vertical-align: top;\n",
       "    }\n",
       "\n",
       "    .dataframe thead th {\n",
       "        text-align: right;\n",
       "    }\n",
       "</style>\n",
       "<table border=\"1\" class=\"dataframe\">\n",
       "  <thead>\n",
       "    <tr style=\"text-align: right;\">\n",
       "      <th></th>\n",
       "      <th>Date</th>\n",
       "      <th>Weekday</th>\n",
       "      <th>LowTemp</th>\n",
       "      <th>HighTemp</th>\n",
       "      <th>DayPass</th>\n",
       "      <th>TotalPax</th>\n",
       "      <th>Precip</th>\n",
       "      <th>MerchRev</th>\n",
       "      <th>SnackRev</th>\n",
       "      <th>LobsteramaRev</th>\n",
       "      <th>GoldZoneRev</th>\n",
       "      <th>CSD_Complaints</th>\n",
       "      <th>Ridership</th>\n",
       "      <th>TotalRev</th>\n",
       "      <th>Passholders</th>\n",
       "    </tr>\n",
       "  </thead>\n",
       "  <tbody>\n",
       "    <tr>\n",
       "      <th>0</th>\n",
       "      <td>May 30</td>\n",
       "      <td>Monday</td>\n",
       "      <td>53</td>\n",
       "      <td>82</td>\n",
       "      <td>5471</td>\n",
       "      <td>6999</td>\n",
       "      <td>0.00</td>\n",
       "      <td>56838.04</td>\n",
       "      <td>28032.0</td>\n",
       "      <td>35838.53</td>\n",
       "      <td>27437.39</td>\n",
       "      <td>10</td>\n",
       "      <td>28068</td>\n",
       "      <td>168826.54</td>\n",
       "      <td>1528</td>\n",
       "    </tr>\n",
       "    <tr>\n",
       "      <th>1</th>\n",
       "      <td>May 31</td>\n",
       "      <td>Tuesday</td>\n",
       "      <td>50</td>\n",
       "      <td>72</td>\n",
       "      <td>2887</td>\n",
       "      <td>4082</td>\n",
       "      <td>0.01</td>\n",
       "      <td>33148.98</td>\n",
       "      <td>15200.0</td>\n",
       "      <td>20904.45</td>\n",
       "      <td>15999.55</td>\n",
       "      <td>6</td>\n",
       "      <td>16370</td>\n",
       "      <td>98453.38</td>\n",
       "      <td>1195</td>\n",
       "    </tr>\n",
       "    <tr>\n",
       "      <th>2</th>\n",
       "      <td>June 1</td>\n",
       "      <td>Wednesday</td>\n",
       "      <td>50</td>\n",
       "      <td>59</td>\n",
       "      <td>3258</td>\n",
       "      <td>4424</td>\n",
       "      <td>0.03</td>\n",
       "      <td>35923.44</td>\n",
       "      <td>18132.0</td>\n",
       "      <td>22649.05</td>\n",
       "      <td>17341.59</td>\n",
       "      <td>1</td>\n",
       "      <td>17739</td>\n",
       "      <td>106697.74</td>\n",
       "      <td>1166</td>\n",
       "    </tr>\n",
       "    <tr>\n",
       "      <th>3</th>\n",
       "      <td>June 2</td>\n",
       "      <td>Thursday</td>\n",
       "      <td>51</td>\n",
       "      <td>64</td>\n",
       "      <td>6430</td>\n",
       "      <td>7167</td>\n",
       "      <td>0.23</td>\n",
       "      <td>58198.77</td>\n",
       "      <td>29888.0</td>\n",
       "      <td>36693.66</td>\n",
       "      <td>28095.16</td>\n",
       "      <td>8</td>\n",
       "      <td>28740</td>\n",
       "      <td>172868.15</td>\n",
       "      <td>737</td>\n",
       "    </tr>\n",
       "    <tr>\n",
       "      <th>4</th>\n",
       "      <td>June 3</td>\n",
       "      <td>Friday</td>\n",
       "      <td>50</td>\n",
       "      <td>55</td>\n",
       "      <td>5981</td>\n",
       "      <td>6388</td>\n",
       "      <td>0.12</td>\n",
       "      <td>51873.00</td>\n",
       "      <td>21648.0</td>\n",
       "      <td>32711.07</td>\n",
       "      <td>25038.58</td>\n",
       "      <td>7</td>\n",
       "      <td>25615</td>\n",
       "      <td>154067.45</td>\n",
       "      <td>407</td>\n",
       "    </tr>\n",
       "  </tbody>\n",
       "</table>\n",
       "</div>"
      ],
      "text/plain": [
       "     Date    Weekday  LowTemp  HighTemp  DayPass  TotalPax  Precip  MerchRev  \\\n",
       "0  May 30     Monday       53        82     5471      6999    0.00  56838.04   \n",
       "1  May 31    Tuesday       50        72     2887      4082    0.01  33148.98   \n",
       "2  June 1  Wednesday       50        59     3258      4424    0.03  35923.44   \n",
       "3  June 2   Thursday       51        64     6430      7167    0.23  58198.77   \n",
       "4  June 3     Friday       50        55     5981      6388    0.12  51873.00   \n",
       "\n",
       "   SnackRev  LobsteramaRev  GoldZoneRev  CSD_Complaints  Ridership   TotalRev  \\\n",
       "0   28032.0       35838.53     27437.39              10      28068  168826.54   \n",
       "1   15200.0       20904.45     15999.55               6      16370   98453.38   \n",
       "2   18132.0       22649.05     17341.59               1      17739  106697.74   \n",
       "3   29888.0       36693.66     28095.16               8      28740  172868.15   \n",
       "4   21648.0       32711.07     25038.58               7      25615  154067.45   \n",
       "\n",
       "   Passholders  \n",
       "0         1528  \n",
       "1         1195  \n",
       "2         1166  \n",
       "3          737  \n",
       "4          407  "
      ]
     },
     "execution_count": 7,
     "metadata": {},
     "output_type": "execute_result"
    }
   ],
   "source": [
    "dt['Passholders']=dt['TotalPax']-dt['DayPass']\n",
    "dt.head()"
   ]
  },
  {
   "cell_type": "markdown",
   "id": "028758bb",
   "metadata": {},
   "source": [
    "b. Find the day for which the high temperature and low temperature got reversed, and fix this error by reversing the two temperature values."
   ]
  },
  {
   "cell_type": "code",
   "execution_count": 8,
   "id": "aa552623",
   "metadata": {},
   "outputs": [],
   "source": [
    "# why not works?\n",
    "# dt['check'] = np.where((dt['LowTemp'] > dt['HighTemp']), False, True)\n",
    "# rslt_df = dt.loc[dt['check'] == 'False']\n",
    "# print('\\nResult dataframe :\\n', rslt_df)"
   ]
  },
  {
   "cell_type": "code",
   "execution_count": 9,
   "id": "e80f7f3c",
   "metadata": {},
   "outputs": [
    {
     "name": "stdout",
     "output_type": "stream",
     "text": [
      "\n",
      "Result dataframe :\n",
      "        Date   Weekday  LowTemp  HighTemp  DayPass  TotalPax  Precip  MerchRev  \\\n",
      "12  June 11  Saturday       74        51     6905      8045     0.0  65332.48   \n",
      "\n",
      "    SnackRev  LobsteramaRev  GoldZoneRev  CSD_Complaints  Ridership  \\\n",
      "12   26832.0       41196.76     31539.98               7      32263   \n",
      "\n",
      "     TotalRev  Passholders  check  \n",
      "12  194050.94         1140    -23  \n"
     ]
    }
   ],
   "source": [
    "dt['check'] = dt['HighTemp'] - dt['LowTemp']\n",
    "rslt_df = dt.loc[dt['check'] < 0 ]\n",
    "print('\\nResult dataframe :\\n', rslt_df)"
   ]
  },
  {
   "cell_type": "code",
   "execution_count": 10,
   "id": "3338dda9",
   "metadata": {},
   "outputs": [
    {
     "data": {
      "text/plain": [
       "HighTemp    74\n",
       "LowTemp     51\n",
       "Name: 12, dtype: object"
      ]
     },
     "execution_count": 10,
     "metadata": {},
     "output_type": "execute_result"
    }
   ],
   "source": [
    "dt.loc[12,['HighTemp','LowTemp']] = (74,51)\n",
    "# why not work: dt.loc[12,['HighTemp','LowTemp']] = dt.loc[12,['LowTemp','HighTemp']]\n",
    "# work: dt.iloc[12,[3,2]] = dt.iloc[12,[2,3]]\n",
    "# check\n",
    "dt.loc[12,['HighTemp','LowTemp']]"
   ]
  },
  {
   "cell_type": "markdown",
   "id": "9d7618b6",
   "metadata": {},
   "source": [
    "#### G.  Find the standard deviation of MerchRev and the standard deviation of GoldZoneRev.\n",
    "\n",
    "a. What are these values?"
   ]
  },
  {
   "cell_type": "code",
   "execution_count": 11,
   "id": "60f4b012",
   "metadata": {},
   "outputs": [
    {
     "data": {
      "text/plain": [
       "15407.183412905959"
      ]
     },
     "execution_count": 11,
     "metadata": {},
     "output_type": "execute_result"
    }
   ],
   "source": [
    "dt['MerchRev'].std()\n",
    "#not work:dt['MerchRev','GoldZoneRev'].std()"
   ]
  },
  {
   "cell_type": "code",
   "execution_count": 12,
   "id": "94e68e0d",
   "metadata": {},
   "outputs": [
    {
     "data": {
      "text/plain": [
       "10422.459761616836"
      ]
     },
     "execution_count": 12,
     "metadata": {},
     "output_type": "execute_result"
    }
   ],
   "source": [
    "dt['GoldZoneRev'].std()"
   ]
  },
  {
   "cell_type": "markdown",
   "id": "3fe9e850",
   "metadata": {},
   "source": [
    "b. Now, find the coefficient of variation (CV) for SnackRev and for GoldZone Rev."
   ]
  },
  {
   "cell_type": "code",
   "execution_count": 13,
   "id": "5329ba59",
   "metadata": {},
   "outputs": [
    {
     "data": {
      "text/plain": [
       "0.32539340667783384"
      ]
     },
     "execution_count": 13,
     "metadata": {},
     "output_type": "execute_result"
    }
   ],
   "source": [
    "import scipy.stats as sp\n",
    "sp.variation(dt['SnackRev'],nan_policy = 'omit')"
   ]
  },
  {
   "cell_type": "code",
   "execution_count": 14,
   "id": "5ae042c8",
   "metadata": {},
   "outputs": [
    {
     "data": {
      "text/plain": [
       "0.42632333648999887"
      ]
     },
     "execution_count": 14,
     "metadata": {},
     "output_type": "execute_result"
    }
   ],
   "source": [
    "sp.variation(dt['GoldZoneRev'],nan_policy = 'omit')"
   ]
  },
  {
   "cell_type": "markdown",
   "id": "f58eefb6",
   "metadata": {},
   "source": [
    "Answer: The CV for SnakcRev is 0.33, and the CV for GoldZoneRev is  0.42. The reason we use coefficient of variation is that we can use it to compare the variation/dispersion between two sample with different scale."
   ]
  },
  {
   "cell_type": "markdown",
   "id": "4b4ae88f",
   "metadata": {},
   "source": [
    "#### H. Can NaNs in a dataset ever indicate something about an observation? Or do they represent a complete ‘void’ of information?\n",
    "\n",
    "Answer: I think NaNs can sometime indicate something about an observation especially when it relate to other variables. For example, as I practiced above, I add a colomn to check whether the HighTemp and LowTemp are reversed, if we set the condition as returning NaN if HighTemp is lower than LowTemp, then we can sort out the reversed data by locating the NaN value."
   ]
  },
  {
   "cell_type": "markdown",
   "id": "e5534290",
   "metadata": {},
   "source": [
    "#### I. Are there any missing values in this dataset? If so, how many total values are missing, and from which column are they missing? Use Python code to answerthis question.\n",
    "\n",
    "a. It might be tempting at first to think that we can quickly fix this issue by using known values from other columns. However, why won’t such an approach work with this particular dataset?"
   ]
  },
  {
   "cell_type": "code",
   "execution_count": 15,
   "id": "5eaea6c9",
   "metadata": {},
   "outputs": [
    {
     "name": "stdout",
     "output_type": "stream",
     "text": [
      "Date              0\n",
      "Weekday           0\n",
      "LowTemp           0\n",
      "HighTemp          0\n",
      "DayPass           0\n",
      "TotalPax          0\n",
      "Precip            0\n",
      "MerchRev          0\n",
      "SnackRev          0\n",
      "LobsteramaRev     0\n",
      "GoldZoneRev       0\n",
      "CSD_Complaints    0\n",
      "Ridership         0\n",
      "TotalRev          2\n",
      "Passholders       0\n",
      "check             0\n",
      "dtype: int64\n"
     ]
    }
   ],
   "source": [
    "print(dt.isnull().sum())"
   ]
  },
  {
   "cell_type": "markdown",
   "id": "75d675de",
   "metadata": {},
   "source": [
    "Answer: There are two NaN value in column TotalRev, it seems like to be the sum of ohter revenue data in the existing data set, but after calcualting, it turns out that TotalRev also includes some other revenue which is not record in the dataset, thus we cannot fix this issue by using known values from other columns."
   ]
  },
  {
   "cell_type": "markdown",
   "id": "7f102190",
   "metadata": {},
   "source": [
    "#### J. Renaming a variable."
   ]
  },
  {
   "cell_type": "code",
   "execution_count": 16,
   "id": "0389a11b",
   "metadata": {},
   "outputs": [
    {
     "data": {
      "text/html": [
       "<div>\n",
       "<style scoped>\n",
       "    .dataframe tbody tr th:only-of-type {\n",
       "        vertical-align: middle;\n",
       "    }\n",
       "\n",
       "    .dataframe tbody tr th {\n",
       "        vertical-align: top;\n",
       "    }\n",
       "\n",
       "    .dataframe thead th {\n",
       "        text-align: right;\n",
       "    }\n",
       "</style>\n",
       "<table border=\"1\" class=\"dataframe\">\n",
       "  <thead>\n",
       "    <tr style=\"text-align: right;\">\n",
       "      <th></th>\n",
       "      <th>Date</th>\n",
       "      <th>Weekday</th>\n",
       "      <th>LowTemp</th>\n",
       "      <th>HighTemp</th>\n",
       "      <th>DayPass</th>\n",
       "      <th>TotalPax</th>\n",
       "      <th>Precip</th>\n",
       "      <th>MerchRev</th>\n",
       "      <th>SnackRev</th>\n",
       "      <th>LobsteramaRev</th>\n",
       "      <th>GoldZoneRev</th>\n",
       "      <th>ncpl</th>\n",
       "      <th>Ridership</th>\n",
       "      <th>TotalRev</th>\n",
       "      <th>Passholders</th>\n",
       "      <th>check</th>\n",
       "    </tr>\n",
       "  </thead>\n",
       "  <tbody>\n",
       "    <tr>\n",
       "      <th>0</th>\n",
       "      <td>May 30</td>\n",
       "      <td>Monday</td>\n",
       "      <td>53</td>\n",
       "      <td>82</td>\n",
       "      <td>5471</td>\n",
       "      <td>6999</td>\n",
       "      <td>0.00</td>\n",
       "      <td>56838.04</td>\n",
       "      <td>28032.0</td>\n",
       "      <td>35838.53</td>\n",
       "      <td>27437.39</td>\n",
       "      <td>10</td>\n",
       "      <td>28068</td>\n",
       "      <td>168826.54</td>\n",
       "      <td>1528</td>\n",
       "      <td>29</td>\n",
       "    </tr>\n",
       "    <tr>\n",
       "      <th>1</th>\n",
       "      <td>May 31</td>\n",
       "      <td>Tuesday</td>\n",
       "      <td>50</td>\n",
       "      <td>72</td>\n",
       "      <td>2887</td>\n",
       "      <td>4082</td>\n",
       "      <td>0.01</td>\n",
       "      <td>33148.98</td>\n",
       "      <td>15200.0</td>\n",
       "      <td>20904.45</td>\n",
       "      <td>15999.55</td>\n",
       "      <td>6</td>\n",
       "      <td>16370</td>\n",
       "      <td>98453.38</td>\n",
       "      <td>1195</td>\n",
       "      <td>22</td>\n",
       "    </tr>\n",
       "    <tr>\n",
       "      <th>2</th>\n",
       "      <td>June 1</td>\n",
       "      <td>Wednesday</td>\n",
       "      <td>50</td>\n",
       "      <td>59</td>\n",
       "      <td>3258</td>\n",
       "      <td>4424</td>\n",
       "      <td>0.03</td>\n",
       "      <td>35923.44</td>\n",
       "      <td>18132.0</td>\n",
       "      <td>22649.05</td>\n",
       "      <td>17341.59</td>\n",
       "      <td>1</td>\n",
       "      <td>17739</td>\n",
       "      <td>106697.74</td>\n",
       "      <td>1166</td>\n",
       "      <td>9</td>\n",
       "    </tr>\n",
       "    <tr>\n",
       "      <th>3</th>\n",
       "      <td>June 2</td>\n",
       "      <td>Thursday</td>\n",
       "      <td>51</td>\n",
       "      <td>64</td>\n",
       "      <td>6430</td>\n",
       "      <td>7167</td>\n",
       "      <td>0.23</td>\n",
       "      <td>58198.77</td>\n",
       "      <td>29888.0</td>\n",
       "      <td>36693.66</td>\n",
       "      <td>28095.16</td>\n",
       "      <td>8</td>\n",
       "      <td>28740</td>\n",
       "      <td>172868.15</td>\n",
       "      <td>737</td>\n",
       "      <td>13</td>\n",
       "    </tr>\n",
       "    <tr>\n",
       "      <th>4</th>\n",
       "      <td>June 3</td>\n",
       "      <td>Friday</td>\n",
       "      <td>50</td>\n",
       "      <td>55</td>\n",
       "      <td>5981</td>\n",
       "      <td>6388</td>\n",
       "      <td>0.12</td>\n",
       "      <td>51873.00</td>\n",
       "      <td>21648.0</td>\n",
       "      <td>32711.07</td>\n",
       "      <td>25038.58</td>\n",
       "      <td>7</td>\n",
       "      <td>25615</td>\n",
       "      <td>154067.45</td>\n",
       "      <td>407</td>\n",
       "      <td>5</td>\n",
       "    </tr>\n",
       "  </tbody>\n",
       "</table>\n",
       "</div>"
      ],
      "text/plain": [
       "     Date    Weekday  LowTemp  HighTemp  DayPass  TotalPax  Precip  MerchRev  \\\n",
       "0  May 30     Monday       53        82     5471      6999    0.00  56838.04   \n",
       "1  May 31    Tuesday       50        72     2887      4082    0.01  33148.98   \n",
       "2  June 1  Wednesday       50        59     3258      4424    0.03  35923.44   \n",
       "3  June 2   Thursday       51        64     6430      7167    0.23  58198.77   \n",
       "4  June 3     Friday       50        55     5981      6388    0.12  51873.00   \n",
       "\n",
       "   SnackRev  LobsteramaRev  GoldZoneRev  ncpl  Ridership   TotalRev  \\\n",
       "0   28032.0       35838.53     27437.39    10      28068  168826.54   \n",
       "1   15200.0       20904.45     15999.55     6      16370   98453.38   \n",
       "2   18132.0       22649.05     17341.59     1      17739  106697.74   \n",
       "3   29888.0       36693.66     28095.16     8      28740  172868.15   \n",
       "4   21648.0       32711.07     25038.58     7      25615  154067.45   \n",
       "\n",
       "   Passholders  check  \n",
       "0         1528     29  \n",
       "1         1195     22  \n",
       "2         1166      9  \n",
       "3          737     13  \n",
       "4          407      5  "
      ]
     },
     "execution_count": 16,
     "metadata": {},
     "output_type": "execute_result"
    }
   ],
   "source": [
    "dt.rename(columns={\"CSD_Complaints\": \"ncpl\"}, inplace = True)\n",
    "dt.head()"
   ]
  },
  {
   "cell_type": "markdown",
   "id": "40277f67",
   "metadata": {},
   "source": [
    "# Data Visualization"
   ]
  },
  {
   "cell_type": "markdown",
   "id": "44d58f86",
   "metadata": {},
   "source": [
    "#### K. Using any plotting tool in Python, generate a histogram that shows the distribution of Lobsterama Revenue.\n",
    "\n",
    "a. What do you notice about this relationship? In a couple of sentences, how would you describe what you see here?"
   ]
  },
  {
   "cell_type": "code",
   "execution_count": 17,
   "id": "b7e18c15",
   "metadata": {},
   "outputs": [
    {
     "data": {
      "image/png": "[encoded data removed]",
      "text/plain": [
       "<Figure size 432x288 with 1 Axes>"
      ]
     },
     "metadata": {
      "needs_background": "light"
     },
     "output_type": "display_data"
    }
   ],
   "source": [
    "import matplotlib.pyplot as plt\n",
    "import seaborn as sns\n",
    "plt.hist( x ='LobsteramaRev', data = dt);\n",
    "plt.title('Distribution of Lobsterama Revenue');\n",
    "plt.xlabel('Lobsterama Revenue');\n",
    "plt.ylabel('Frequency(Days)');"
   ]
  },
  {
   "cell_type": "markdown",
   "id": "f9e35102",
   "metadata": {},
   "source": [
    "Answer: It is hard to find a pattern of any distribution in this plot. But we can notice that there is a tendency for data to concentrate around different value.\n",
    "\n",
    "b. Now, increase the number of bins. What can you say about this second histogram, compared with the first one?"
   ]
  },
  {
   "cell_type": "code",
   "execution_count": 18,
   "id": "89b9daaa",
   "metadata": {},
   "outputs": [
    {
     "data": {
      "image/png": "[encoded data removed]",
      "text/plain": [
       "<Figure size 432x288 with 1 Axes>"
      ]
     },
     "metadata": {
      "needs_background": "light"
     },
     "output_type": "display_data"
    }
   ],
   "source": [
    "plt.hist(x ='LobsteramaRev', bins = 25, data = dt);\n",
    "plt.title('Distribution of Total Revenue w/ more bins');\n",
    "plt.xlabel('Lobsterama Revenue');\n",
    "plt.ylabel('Frequency(Days)');"
   ]
  },
  {
   "cell_type": "markdown",
   "id": "24c856b4",
   "metadata": {},
   "source": [
    "Answer: After increasing the number of bins, we can see the data is clustered around two values. One of them is concentrated around 20,000, the other is concentrated around 35,000. We can speculate that the two clusters may be caused by some binary variables like w/ or wo/ precipitation, on weekdays or on weekends, etc.\n",
    "\n",
    "c. Generate one more histogram – this time, show the LobsteramaRev distribution (with any number of bins) – but add a new twist. Assume that ‘weekend’ includes Friday, Saturday, and Sunday, and that ‘Weekday’ refers to all the other days. Fill the bars of your histogram based on whether the day is a weekend or a weekday. What does this plot show, and why (or why not) would you expect it to look the way it does?"
   ]
  },
  {
   "cell_type": "code",
   "execution_count": 19,
   "id": "f6fe9df0",
   "metadata": {},
   "outputs": [
    {
     "data": {
      "image/png": "[encoded data removed]",
      "text/plain": [
       "<Figure size 432x288 with 1 Axes>"
      ]
     },
     "metadata": {
      "needs_background": "light"
     },
     "output_type": "display_data"
    }
   ],
   "source": [
    "x = dt[dt['Weekday'].isin(['Friday','Saturday','Sunday'])]\n",
    "y = dt[~dt['Weekday'].isin(['Friday','Saturday','Sunday'])]\n",
    "\n",
    "plt.hist(x ='LobsteramaRev', bins = 30, alpha=0.5, label='Weekend', data = x);\n",
    "plt.hist(x ='LobsteramaRev', bins = 30, alpha=0.5, label='Weekday', data = y);\n",
    "plt.title('Distribution of Total Revenue');\n",
    "plt.xlabel('Lobsterama Revenue');\n",
    "plt.ylabel('Frequency(Days)');\n",
    "plt.legend(loc='upper right')\n",
    "plt.show()"
   ]
  },
  {
   "cell_type": "markdown",
   "id": "c2ddc3a7",
   "metadata": {},
   "source": [
    "Answer: After adding a new twist to distinguish weekday and weekend, we can see whether it is in the weekend can truly be a differentiating factor of Lobsterama Revenue.\n",
    "\n",
    "#### L. Which items generated the most total revenue? Generate a bar plot that shows the total revenue for each of the individual revenue items included in this dataset (don’t include total). Sort the bars in order (tallest to shortest, or shortest to tallest).\n",
    "\n",
    "a. In a sentence or two, what does this plot show?"
   ]
  },
  {
   "cell_type": "code",
   "execution_count": 20,
   "id": "a4bc97f8",
   "metadata": {},
   "outputs": [
    {
     "data": {
      "text/plain": [
       "<AxesSubplot:>"
      ]
     },
     "execution_count": 20,
     "metadata": {},
     "output_type": "execute_result"
    },
    {
     "data": {
      "image/png": "[encoded data removed]",
      "text/plain": [
       "<Figure size 432x288 with 1 Axes>"
      ]
     },
     "metadata": {
      "needs_background": "light"
     },
     "output_type": "display_data"
    }
   ],
   "source": [
    "rev = dt[[\"LobsteramaRev\", \"MerchRev\", \"SnackRev\", \"GoldZoneRev\"]].sum(axis=0)\n",
    "pd.DataFrame(rev.sort_values()).transpose().plot(kind=\"bar\")"
   ]
  },
  {
   "cell_type": "markdown",
   "id": "93ab7062",
   "metadata": {},
   "source": [
    "Answer: As the plot shows above, the total merchandise revenue contributes the most to total revenue.\n",
    "\n",
    "#### M. Can the number of visitors predict the number of complaints? Build a scatterplot to check for this. Use the total number of visitors as your explanatory variable, and use the total number of complaints as your response variable.\n",
    "\n",
    "a. In a sentence or two, what does this plot show? Offer some speculation/insight about why it might look the way it does."
   ]
  },
  {
   "cell_type": "code",
   "execution_count": 21,
   "id": "bdef72b5",
   "metadata": {},
   "outputs": [
    {
     "data": {
      "text/plain": [
       "Text(0.5, 1.0, 'Total # of visitors vs. # of complaints')"
      ]
     },
     "execution_count": 21,
     "metadata": {},
     "output_type": "execute_result"
    },
    {
     "data": {
      "image/png": "[encoded data removed]",
      "text/plain": [
       "<Figure size 432x288 with 1 Axes>"
      ]
     },
     "metadata": {
      "needs_background": "light"
     },
     "output_type": "display_data"
    }
   ],
   "source": [
    "plt.scatter(x='TotalPax', y='ncpl', data = dt, color='darkorange')\n",
    "plt.xlabel('Total # of visitors')\n",
    "plt.ylabel('# of complaints')\n",
    "plt.title('Total # of visitors vs. # of complaints')"
   ]
  },
  {
   "cell_type": "markdown",
   "id": "05301e21",
   "metadata": {},
   "source": [
    "Answer: The points in the plot above are scattered randomly, which indicates it is hard to tell that there is a relationship between the number of visitors and complaints. Maybe because the scale of these two variables has a huge gap.\n",
    "\n",
    "#### N. How does rain impact park operations? Let’s compare days that did have some rain vs. days that had no rain.\n",
    "\n",
    "a. Create a categorical variable that separates days with rain from days that had no rain. Next, generate an appropriate visualization to demonstrate a comparison of GoldZone revenue on rainy days vs. non-rainy days. What does it show? Why might it look the way it does?"
   ]
  },
  {
   "cell_type": "code",
   "execution_count": 22,
   "id": "78453bbf",
   "metadata": {},
   "outputs": [
    {
     "data": {
      "text/plain": [
       "<AxesSubplot:xlabel='rain', ylabel='GoldZoneRev'>"
      ]
     },
     "execution_count": 22,
     "metadata": {},
     "output_type": "execute_result"
    },
    {
     "data": {
      "image/png": "[encoded data removed]",
      "text/plain": [
       "<Figure size 432x288 with 1 Axes>"
      ]
     },
     "metadata": {
      "needs_background": "light"
     },
     "output_type": "display_data"
    }
   ],
   "source": [
    "# create a categorical variable\n",
    "dt['rain'] = np.where(dt['Precip'] <= 0.01, 0, 1)\n",
    "dt['rain'] = dt['rain'].astype('category')\n",
    "# boxplots for rainy day and non-rainy day (with different colors)\n",
    "sns.boxplot(data = dt, x = \"rain\", y = 'GoldZoneRev', hue='rain')"
   ]
  },
  {
   "cell_type": "markdown",
   "id": "fe768de7",
   "metadata": {},
   "source": [
    "Answer: It seems there is no significant difference in GoldZone revenue on rainy days vs. non-rainy days. Maybe because GoldZone is an in-house arcade that is hardly affected by the weather.\n",
    "\n",
    "b. Now, generate an appropriate visualization to demonstrate a comparison of Ridership on rainy days vs. non-rain days. What does it show? Why might it look the way it does?"
   ]
  },
  {
   "cell_type": "code",
   "execution_count": 23,
   "id": "8c6517c7",
   "metadata": {},
   "outputs": [
    {
     "data": {
      "text/plain": [
       "<AxesSubplot:xlabel='rain', ylabel='Ridership'>"
      ]
     },
     "execution_count": 23,
     "metadata": {},
     "output_type": "execute_result"
    },
    {
     "data": {
      "image/png": "[encoded data removed]",
      "text/plain": [
       "<Figure size 432x288 with 1 Axes>"
      ]
     },
     "metadata": {
      "needs_background": "light"
     },
     "output_type": "display_data"
    }
   ],
   "source": [
    "sns.boxplot(data = dt, x = \"rain\", y = 'Ridership', hue='rain')"
   ]
  },
  {
   "cell_type": "markdown",
   "id": "6fc0b871",
   "metadata": {},
   "source": [
    "Answer: There is an obvious difference in Ridership on rainy days vs. non-rainy days. It make sense because if it is rainy outside visitors may not transfer a lot.\n",
    "\n",
    "c. To know about the impact of rain on a particular day, what else would be important to know, besides what’s shown here in the dataset and description? (Note that Lobster Land is open each day of operation from 9 a.m. to 9 p.m.)\n",
    "\n",
    "Answer: To know the impact of rain on a particular day, I think we need to know the detaied rainy hours. Since our rainfall data is for 24-hour period of the day, but only 9 a.m. to 9 p.m. can has real effect."
   ]
  },
  {
   "cell_type": "markdown",
   "id": "1c386a8a",
   "metadata": {},
   "source": [
    "# Wildcard: Metrics and 'Quantified Self'\n",
    "\n",
    "I choose my weight as my observational object and gather the data from the app used to connect my bluetooth weight scale. \n",
    "\n",
    "| Date | Time | Weight(kg) |\n",
    "| --- | --- | --- |\n",
    "| 09/22 | 11:16 | 57.8 |\n",
    "| 09/22 | 10:53 | 58.3 |\n",
    "| 09/21 | 23:49 | 59.0 |\n",
    "| 09/21 | 10:24 | 58.5 |\n",
    "| 09/20 | 18:26 | 59.4 |\n",
    "\n",
    "The result kind of astonished me at first, because I haven't weighed myself since I move into the new house on September 1st, and the weight showed up as 5 kg more than the stable weight I keep for the whole summer vacation. \n",
    "\n",
    "Two main reasons come to my mind. The first one is that I miss a lot of exercise time since I have audited many classes to make the final choice. The second one is that I caught a severe cold the second week and I drink a lot of water every day since then which makes me feel swollen. And maybe it's also because I took the Emergan-C (strawberry-kiwi flavor) as a vitamin supplement every day and it contains 5 added sugar per packet which is so different from my regular diet! \n",
    "\n",
    "I will keep tracking my weight since it seems to begin to regress (I wish). And I think my original and stable weight will keep me physically and mentally healthy. I'm really looking forward to this after I begin to exercise again!\n",
    "\n",
    "\n",
    "\n",
    "\n"
   ]
  }
 ],
 "metadata": {
  "kernelspec": {
   "display_name": "Python 3 (ipykernel)",
   "language": "python",
   "name": "python3"
  },
  "language_info": {
   "codemirror_mode": {
    "name": "ipython",
    "version": 3
   },
   "file_extension": ".py",
   "mimetype": "text/x-python",
   "name": "python",
   "nbconvert_exporter": "python",
   "pygments_lexer": "ipython3",
   "version": "3.9.7"
  }
 },
 "nbformat": 4,
 "nbformat_minor": 5
}
